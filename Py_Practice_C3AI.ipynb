{
 "cells": [
  {
   "cell_type": "code",
   "execution_count": 3,
   "id": "8495687d-acb8-4e8d-9872-49af2adca365",
   "metadata": {},
   "outputs": [],
   "source": [
    "import pandas as pd\n",
    "import numpy as np\n",
    "import typing as typ"
   ]
  },
  {
   "cell_type": "code",
   "execution_count": 2,
   "id": "e1e600c5-59d3-4f15-aaf5-c0820c2ad12e",
   "metadata": {},
   "outputs": [],
   "source": [
    "# We write a function that take a paragraph as input and outputs the same paragraph but with\n",
    "# each sentence having each word spelling backward.  We also require a second argument for\n",
    "# a set of punctuation marks that we want the function to account for."
   ]
  },
  {
   "cell_type": "code",
   "execution_count": 93,
   "id": "fd7ec1a9-88b0-4c0b-8151-dff516689d70",
   "metadata": {},
   "outputs": [],
   "source": [
    "def backward_maker(graph: str, p_set: set) -> str:\n",
    "    # https://docs.python.org/3/library/typing.html\n",
    "\n",
    "    #Step 1: take apart\n",
    "    graph_as_word_list = list(graph.split(' '))\n",
    "\n",
    "    #Now, if we find a period, put it at end of new final word\n",
    "    \n",
    "    each_word_backward = [elem[::-1].replace('.', '') + str(elem.count('.')).replace('1','.').replace('0','') for elem in graph_as_word_list]\n",
    "\n",
    "    print(each_word_backward)\n",
    "\n",
    "    joined = ' '.join(each_word_backward)\n",
    "    \n",
    "    #Step 2: put back together\n",
    "    return(joined)"
   ]
  },
  {
   "cell_type": "code",
   "execution_count": 94,
   "id": "9b30185a-b8d4-4124-a366-d94388a8428e",
   "metadata": {},
   "outputs": [
    {
     "name": "stdout",
     "output_type": "stream",
     "text": [
      "['divaD', 'si', 'llat.', '', 'tuB', 'eh', 'sekam', 'sekatsim.']\n"
     ]
    },
    {
     "data": {
      "text/plain": [
       "'divaD si llat.  tuB eh sekam sekatsim.'"
      ]
     },
     "execution_count": 94,
     "metadata": {},
     "output_type": "execute_result"
    }
   ],
   "source": [
    "backward_maker('David is tall.  But he makes mistakes.', ['a'])"
   ]
  }
 ],
 "metadata": {
  "kernelspec": {
   "display_name": "Python 3 (ipykernel)",
   "language": "python",
   "name": "python3"
  },
  "language_info": {
   "codemirror_mode": {
    "name": "ipython",
    "version": 3
   },
   "file_extension": ".py",
   "mimetype": "text/x-python",
   "name": "python",
   "nbconvert_exporter": "python",
   "pygments_lexer": "ipython3",
   "version": "3.12.1"
  }
 },
 "nbformat": 4,
 "nbformat_minor": 5
}
