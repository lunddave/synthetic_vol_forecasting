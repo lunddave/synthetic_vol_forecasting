{
 "cells": [
  {
   "cell_type": "code",
   "execution_count": 6,
   "id": "e6f39a9a-5ef3-49ed-826f-9e24be528568",
   "metadata": {},
   "outputs": [
    {
     "name": "stdout",
     "output_type": "stream",
     "text": [
      "Emma eats zoin 0  cakes Logan eats morepoooooooooooooo\n",
      "Emma eats zoin 1  cakes Logan eats morepoooooooooooooo\n",
      "Emma eats zoin 2  cakes Logan eats morepoooooooooooooo\n",
      "Emma eats zoin 3  cakes Logan eats morepoooooooooooooo\n",
      "Emma eats zoin 4  cakes Logan eats morepoooooooooooooo\n",
      "Emma eats zoin 5  cakes Logan eats morepoooooooooooooo\n",
      "Emma eats zoin 6  cakes Logan eats morepoooooooooooooo\n",
      "Emma eats zoin 7  cakes Logan eats morepoooooooooooooo\n",
      "Emma eats zoin 8  cakes Logan eats morepoooooooooooooo\n",
      "Emma eats zoin 9  cakes Logan eats morepoooooooooooooo\n",
      "Emma eats zoin 10  cakes Logan eats morepoooooooooooooo\n",
      "Emma eats zoin 11  cakes Logan eats morepoooooooooooooo\n",
      "Emma eats zoin 12  cakes Logan eats morepoooooooooooooo\n",
      "Emma eats zoin 13  cakes Logan eats morepoooooooooooooo\n",
      "Emma eats zoin 14  cakes Logan eats morepoooooooooooooo\n",
      "Emma eats zoin 15  cakes Logan eats morepoooooooooooooo\n",
      "Emma eats zoin 16  cakes Logan eats morepoooooooooooooo\n",
      "Emma eats zoin 17  cakes Logan eats morepoooooooooooooo\n",
      "Emma eats zoin 18  cakes Logan eats morepoooooooooooooo\n",
      "Emma eats zoin 19  cakes Logan eats morepoooooooooooooo\n"
     ]
    }
   ],
   "source": [
    "for k in range(20):\n",
    "    print('Emma eats zoin', k , ' cakes Logan eats morepoooooooooooooo')"
   ]
  },
  {
   "cell_type": "code",
   "execution_count": null,
   "id": "f7fdfbfa-0bc7-4406-ac4e-185905c25b72",
   "metadata": {},
   "outputs": [],
   "source": []
  },
  {
   "cell_type": "code",
   "execution_count": null,
   "id": "d532acec-c20e-4323-bca3-ee8b02179be1",
   "metadata": {},
   "outputs": [],
   "source": []
  },
  {
   "cell_type": "code",
   "execution_count": null,
   "id": "e3d98ac3-c7c0-4f0b-b17c-14d3719073e8",
   "metadata": {},
   "outputs": [],
   "source": []
  },
  {
   "cell_type": "code",
   "execution_count": null,
   "id": "51c5be8e-3abe-43bd-a797-1cfdff307a08",
   "metadata": {},
   "outputs": [],
   "source": []
  },
  {
   "cell_type": "code",
   "execution_count": null,
   "id": "3e3977cb-0546-4591-8b1b-b4701c77b122",
   "metadata": {},
   "outputs": [],
   "source": []
  },
  {
   "cell_type": "code",
   "execution_count": null,
   "id": "a99cd34d-8ea5-4189-a37c-3ddc325138b6",
   "metadata": {},
   "outputs": [],
   "source": [
    "\n"
   ]
  },
  {
   "cell_type": "code",
   "execution_count": null,
   "id": "54a802c0-600a-443a-b605-e738edb3a9a3",
   "metadata": {},
   "outputs": [],
   "source": []
  },
  {
   "cell_type": "code",
   "execution_count": null,
   "id": "b91e5c2d-fb54-464a-b690-5a1481247b1c",
   "metadata": {},
   "outputs": [],
   "source": []
  },
  {
   "cell_type": "code",
   "execution_count": null,
   "id": "a189dd11-625c-45ef-8335-370921f42850",
   "metadata": {},
   "outputs": [],
   "source": []
  },
  {
   "cell_type": "code",
   "execution_count": null,
   "id": "32ee450a-61cc-4fd6-8226-f4d34d341c32",
   "metadata": {},
   "outputs": [],
   "source": []
  },
  {
   "cell_type": "code",
   "execution_count": null,
   "id": "80d594d1-2c83-4392-bc9b-55c8a18f940c",
   "metadata": {},
   "outputs": [],
   "source": []
  },
  {
   "cell_type": "code",
   "execution_count": null,
   "id": "8a274abd-72bc-4385-859f-867f220a79cf",
   "metadata": {},
   "outputs": [],
   "source": []
  },
  {
   "cell_type": "code",
   "execution_count": null,
   "id": "ad43719f-6ad6-40cc-b816-5cd7ca4472d2",
   "metadata": {},
   "outputs": [],
   "source": []
  },
  {
   "cell_type": "code",
   "execution_count": null,
   "id": "f800b0a6-8b3f-42dd-8579-93482142e31d",
   "metadata": {},
   "outputs": [],
   "source": []
  },
  {
   "cell_type": "code",
   "execution_count": null,
   "id": "b72736ae-40a4-41ce-b0e4-39e0902c1ae2",
   "metadata": {},
   "outputs": [],
   "source": []
  },
  {
   "cell_type": "code",
   "execution_count": null,
   "id": "22bd85dd-07e3-4245-8fc6-0ba1e2d60ea1",
   "metadata": {},
   "outputs": [],
   "source": []
  },
  {
   "cell_type": "code",
   "execution_count": null,
   "id": "0679f33a-c98a-4089-8a84-4c5329d0e471",
   "metadata": {},
   "outputs": [],
   "source": []
  },
  {
   "cell_type": "code",
   "execution_count": null,
   "id": "2e76feef-ae08-4828-8555-6273c05941bb",
   "metadata": {},
   "outputs": [],
   "source": []
  },
  {
   "cell_type": "code",
   "execution_count": null,
   "id": "5a3cc6bc-9be1-4904-85ef-1c0b455d7edb",
   "metadata": {},
   "outputs": [],
   "source": []
  },
  {
   "cell_type": "code",
   "execution_count": null,
   "id": "f3f739d3-7edf-47e1-be7c-02892bbf9549",
   "metadata": {},
   "outputs": [],
   "source": []
  },
  {
   "cell_type": "code",
   "execution_count": null,
   "id": "91be7451-d4bc-48aa-8f4c-3f81faea2003",
   "metadata": {},
   "outputs": [],
   "source": []
  },
  {
   "cell_type": "code",
   "execution_count": null,
   "id": "d83d5571-1fb1-4173-b7f3-e52f8d0ddb17",
   "metadata": {},
   "outputs": [],
   "source": []
  },
  {
   "cell_type": "code",
   "execution_count": null,
   "id": "8e3991b5-ac68-4fb6-a043-faf2c1832fb1",
   "metadata": {},
   "outputs": [],
   "source": []
  },
  {
   "cell_type": "code",
   "execution_count": null,
   "id": "bc45007c-9167-4e76-91ce-caf343855848",
   "metadata": {},
   "outputs": [],
   "source": []
  },
  {
   "cell_type": "code",
   "execution_count": null,
   "id": "32a67335-fa45-4303-af46-423c52a389f9",
   "metadata": {},
   "outputs": [],
   "source": []
  },
  {
   "cell_type": "code",
   "execution_count": null,
   "id": "44a84c4e-0c29-43e4-9cc1-6011b891b897",
   "metadata": {},
   "outputs": [],
   "source": []
  },
  {
   "cell_type": "code",
   "execution_count": null,
   "id": "91e22007-79de-4f56-b96e-bc1e314c8c35",
   "metadata": {},
   "outputs": [],
   "source": []
  },
  {
   "cell_type": "code",
   "execution_count": null,
   "id": "f60c773f-b661-4736-972a-d21ff7e197f0",
   "metadata": {},
   "outputs": [],
   "source": []
  },
  {
   "cell_type": "code",
   "execution_count": null,
   "id": "8c0c2de9-aad0-4985-b22d-ad87832637bb",
   "metadata": {},
   "outputs": [],
   "source": []
  },
  {
   "cell_type": "code",
   "execution_count": null,
   "id": "faa36042-9219-4e92-86af-c15708510313",
   "metadata": {},
   "outputs": [],
   "source": []
  },
  {
   "cell_type": "code",
   "execution_count": null,
   "id": "d399c57e-4184-4035-a368-20be8939311c",
   "metadata": {},
   "outputs": [],
   "source": []
  },
  {
   "cell_type": "code",
   "execution_count": null,
   "id": "b3f8743e-b462-4b0f-a5ac-f4d2ae48a575",
   "metadata": {},
   "outputs": [],
   "source": []
  },
  {
   "cell_type": "code",
   "execution_count": null,
   "id": "fc22f8a5-de5a-45a0-a339-686b3dcc097a",
   "metadata": {},
   "outputs": [],
   "source": []
  },
  {
   "cell_type": "code",
   "execution_count": null,
   "id": "df9be68c-f872-4266-b935-ab9ec9e053c4",
   "metadata": {},
   "outputs": [],
   "source": []
  },
  {
   "cell_type": "code",
   "execution_count": null,
   "id": "3e972e1c-78ee-4eec-b905-6d343d48b259",
   "metadata": {},
   "outputs": [],
   "source": []
  },
  {
   "cell_type": "code",
   "execution_count": null,
   "id": "0fe947c9-1f75-4759-8738-b32b01fd8e71",
   "metadata": {},
   "outputs": [],
   "source": []
  }
 ],
 "metadata": {
  "kernelspec": {
   "display_name": "Python 3 (ipykernel)",
   "language": "python",
   "name": "python3"
  },
  "language_info": {
   "codemirror_mode": {
    "name": "ipython",
    "version": 3
   },
   "file_extension": ".py",
   "mimetype": "text/x-python",
   "name": "python",
   "nbconvert_exporter": "python",
   "pygments_lexer": "ipython3",
   "version": "3.12.1"
  }
 },
 "nbformat": 4,
 "nbformat_minor": 5
}
