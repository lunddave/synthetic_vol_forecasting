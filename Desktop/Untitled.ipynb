{
 "cells": [
  {
   "cell_type": "code",
   "execution_count": 11,
   "id": "c70963b2-be5c-4e4e-a73b-c9a56b66390a",
   "metadata": {},
   "outputs": [],
   "source": [
    "import polars as pl"
   ]
  },
  {
   "cell_type": "code",
   "execution_count": 34,
   "id": "3d28c9b4-be50-4bae-a91c-f4154cb46973",
   "metadata": {},
   "outputs": [],
   "source": [
    "import numpy as np"
   ]
  },
  {
   "cell_type": "code",
   "execution_count": null,
   "id": "75c671e1-4dc4-460c-b228-02526363d91c",
   "metadata": {},
   "outputs": [],
   "source": [
    "# https://pbpython.com/polars-intro.html#:~:text=The%20goal%20of%20Polars%20is,larger%20than%20your%20available%20RAM."
   ]
  },
  {
   "cell_type": "code",
   "execution_count": 21,
   "id": "fa90e83f-db94-47f8-a7ba-f0453fb2b6ca",
   "metadata": {},
   "outputs": [],
   "source": [
    "pt = 'Desktop/PhD/synthetic_vol_forecasting/COP.csv'"
   ]
  },
  {
   "cell_type": "code",
   "execution_count": 24,
   "id": "890c3761-d22a-49be-a3cb-c41cf437963f",
   "metadata": {},
   "outputs": [],
   "source": [
    "df = pl.read_csv(\n",
    "    source=pt\n",
    ")"
   ]
  },
  {
   "cell_type": "code",
   "execution_count": 26,
   "id": "90bc8e6c-d942-42c7-bd74-cf2cdc4ba48d",
   "metadata": {},
   "outputs": [
    {
     "data": {
      "text/plain": [
       "OrderedDict([('Date', String),\n",
       "             ('Open', Float64),\n",
       "             ('High', Float64),\n",
       "             ('Low', Float64),\n",
       "             ('Close', Float64),\n",
       "             ('Adj Close', Float64),\n",
       "             ('Volume', Int64)])"
      ]
     },
     "execution_count": 26,
     "metadata": {},
     "output_type": "execute_result"
    }
   ],
   "source": [
    "df.schema\n"
   ]
  },
  {
   "cell_type": "code",
   "execution_count": 27,
   "id": "2868b304-48f1-4350-8085-434a27a5fbd3",
   "metadata": {},
   "outputs": [
    {
     "data": {
      "text/html": [
       "<div><style>\n",
       ".dataframe > thead > tr,\n",
       ".dataframe > tbody > tr {\n",
       "  text-align: right;\n",
       "  white-space: pre-wrap;\n",
       "}\n",
       "</style>\n",
       "<small>shape: (5, 7)</small><table border=\"1\" class=\"dataframe\"><thead><tr><th>Date</th><th>Open</th><th>High</th><th>Low</th><th>Close</th><th>Adj Close</th><th>Volume</th></tr><tr><td>str</td><td>f64</td><td>f64</td><td>f64</td><td>f64</td><td>f64</td><td>i64</td></tr></thead><tbody><tr><td>&quot;2007-01-03&quot;</td><td>54.353172</td><td>54.505634</td><td>51.761295</td><td>51.982365</td><td>28.585028</td><td>27097929</td></tr><tr><td>&quot;2007-01-04&quot;</td><td>51.15144</td><td>51.44112</td><td>49.649677</td><td>50.366257</td><td>27.696325</td><td>35752601</td></tr><tr><td>&quot;2007-01-05&quot;</td><td>50.846516</td><td>51.570717</td><td>50.366257</td><td>51.395382</td><td>28.262243</td><td>21196837</td></tr><tr><td>&quot;2007-01-08&quot;</td><td>51.913757</td><td>52.272045</td><td>51.15144</td><td>52.066219</td><td>28.631144</td><td>21997948</td></tr><tr><td>&quot;2007-01-09&quot;</td><td>51.075211</td><td>51.570717</td><td>50.625443</td><td>50.701675</td><td>27.880775</td><td>26330269</td></tr></tbody></table></div>"
      ],
      "text/plain": [
       "shape: (5, 7)\n",
       "┌────────────┬───────────┬───────────┬───────────┬───────────┬───────────┬──────────┐\n",
       "│ Date       ┆ Open      ┆ High      ┆ Low       ┆ Close     ┆ Adj Close ┆ Volume   │\n",
       "│ ---        ┆ ---       ┆ ---       ┆ ---       ┆ ---       ┆ ---       ┆ ---      │\n",
       "│ str        ┆ f64       ┆ f64       ┆ f64       ┆ f64       ┆ f64       ┆ i64      │\n",
       "╞════════════╪═══════════╪═══════════╪═══════════╪═══════════╪═══════════╪══════════╡\n",
       "│ 2007-01-03 ┆ 54.353172 ┆ 54.505634 ┆ 51.761295 ┆ 51.982365 ┆ 28.585028 ┆ 27097929 │\n",
       "│ 2007-01-04 ┆ 51.15144  ┆ 51.44112  ┆ 49.649677 ┆ 50.366257 ┆ 27.696325 ┆ 35752601 │\n",
       "│ 2007-01-05 ┆ 50.846516 ┆ 51.570717 ┆ 50.366257 ┆ 51.395382 ┆ 28.262243 ┆ 21196837 │\n",
       "│ 2007-01-08 ┆ 51.913757 ┆ 52.272045 ┆ 51.15144  ┆ 52.066219 ┆ 28.631144 ┆ 21997948 │\n",
       "│ 2007-01-09 ┆ 51.075211 ┆ 51.570717 ┆ 50.625443 ┆ 50.701675 ┆ 27.880775 ┆ 26330269 │\n",
       "└────────────┴───────────┴───────────┴───────────┴───────────┴───────────┴──────────┘"
      ]
     },
     "execution_count": 27,
     "metadata": {},
     "output_type": "execute_result"
    }
   ],
   "source": [
    "df.head()\n"
   ]
  },
  {
   "cell_type": "code",
   "execution_count": 28,
   "id": "e7f1c2de-611f-4c0a-ac39-d6a354fb40c2",
   "metadata": {},
   "outputs": [
    {
     "data": {
      "text/html": [
       "<div><style>\n",
       ".dataframe > thead > tr,\n",
       ".dataframe > tbody > tr {\n",
       "  text-align: right;\n",
       "  white-space: pre-wrap;\n",
       "}\n",
       "</style>\n",
       "<small>shape: (9, 8)</small><table border=\"1\" class=\"dataframe\"><thead><tr><th>statistic</th><th>Date</th><th>Open</th><th>High</th><th>Low</th><th>Close</th><th>Adj Close</th><th>Volume</th></tr><tr><td>str</td><td>str</td><td>f64</td><td>f64</td><td>f64</td><td>f64</td><td>f64</td><td>f64</td></tr></thead><tbody><tr><td>&quot;count&quot;</td><td>&quot;3423&quot;</td><td>3423.0</td><td>3423.0</td><td>3423.0</td><td>3423.0</td><td>3423.0</td><td>3423.0</td></tr><tr><td>&quot;null_count&quot;</td><td>&quot;0&quot;</td><td>0.0</td><td>0.0</td><td>0.0</td><td>0.0</td><td>0.0</td><td>0.0</td></tr><tr><td>&quot;mean&quot;</td><td>null</td><td>54.739</td><td>55.353606</td><td>54.089771</td><td>54.72527</td><td>38.61961</td><td>1.0560e7</td></tr><tr><td>&quot;std&quot;</td><td>null</td><td>12.125995</td><td>12.115066</td><td>12.129557</td><td>12.120907</td><td>10.663738</td><td>6.2212e6</td></tr><tr><td>&quot;min&quot;</td><td>&quot;2007-01-03&quot;</td><td>23.129999</td><td>25.6</td><td>20.84</td><td>22.67</td><td>15.619316</td><td>1.625e6</td></tr><tr><td>&quot;25%&quot;</td><td>null</td><td>44.959999</td><td>45.380001</td><td>44.27</td><td>44.830002</td><td>32.407322</td><td>6.0047e6</td></tr><tr><td>&quot;50%&quot;</td><td>null</td><td>55.549999</td><td>56.045513</td><td>54.871548</td><td>55.509998</td><td>37.202026</td><td>8.7509e6</td></tr><tr><td>&quot;75%&quot;</td><td>null</td><td>63.610001</td><td>64.239998</td><td>62.837753</td><td>63.554333</td><td>47.128693</td><td>1.3489278e7</td></tr><tr><td>&quot;max&quot;</td><td>&quot;2020-08-06&quot;</td><td>86.68</td><td>87.089996</td><td>86.239998</td><td>86.760002</td><td>65.569893</td><td>8.142536e7</td></tr></tbody></table></div>"
      ],
      "text/plain": [
       "shape: (9, 8)\n",
       "┌────────────┬────────────┬───────────┬───────────┬───────────┬───────────┬───────────┬────────────┐\n",
       "│ statistic  ┆ Date       ┆ Open      ┆ High      ┆ Low       ┆ Close     ┆ Adj Close ┆ Volume     │\n",
       "│ ---        ┆ ---        ┆ ---       ┆ ---       ┆ ---       ┆ ---       ┆ ---       ┆ ---        │\n",
       "│ str        ┆ str        ┆ f64       ┆ f64       ┆ f64       ┆ f64       ┆ f64       ┆ f64        │\n",
       "╞════════════╪════════════╪═══════════╪═══════════╪═══════════╪═══════════╪═══════════╪════════════╡\n",
       "│ count      ┆ 3423       ┆ 3423.0    ┆ 3423.0    ┆ 3423.0    ┆ 3423.0    ┆ 3423.0    ┆ 3423.0     │\n",
       "│ null_count ┆ 0          ┆ 0.0       ┆ 0.0       ┆ 0.0       ┆ 0.0       ┆ 0.0       ┆ 0.0        │\n",
       "│ mean       ┆ null       ┆ 54.739    ┆ 55.353606 ┆ 54.089771 ┆ 54.72527  ┆ 38.61961  ┆ 1.0560e7   │\n",
       "│ std        ┆ null       ┆ 12.125995 ┆ 12.115066 ┆ 12.129557 ┆ 12.120907 ┆ 10.663738 ┆ 6.2212e6   │\n",
       "│ min        ┆ 2007-01-03 ┆ 23.129999 ┆ 25.6      ┆ 20.84     ┆ 22.67     ┆ 15.619316 ┆ 1.625e6    │\n",
       "│ 25%        ┆ null       ┆ 44.959999 ┆ 45.380001 ┆ 44.27     ┆ 44.830002 ┆ 32.407322 ┆ 6.0047e6   │\n",
       "│ 50%        ┆ null       ┆ 55.549999 ┆ 56.045513 ┆ 54.871548 ┆ 55.509998 ┆ 37.202026 ┆ 8.7509e6   │\n",
       "│ 75%        ┆ null       ┆ 63.610001 ┆ 64.239998 ┆ 62.837753 ┆ 63.554333 ┆ 47.128693 ┆ 1.3489278e │\n",
       "│            ┆            ┆           ┆           ┆           ┆           ┆           ┆ 7          │\n",
       "│ max        ┆ 2020-08-06 ┆ 86.68     ┆ 87.089996 ┆ 86.239998 ┆ 86.760002 ┆ 65.569893 ┆ 8.142536e7 │\n",
       "└────────────┴────────────┴───────────┴───────────┴───────────┴───────────┴───────────┴────────────┘"
      ]
     },
     "execution_count": 28,
     "metadata": {},
     "output_type": "execute_result"
    }
   ],
   "source": [
    "df.describe()\n"
   ]
  },
  {
   "cell_type": "code",
   "execution_count": 29,
   "id": "720cf621-268e-4afb-a468-ae9fc1d1767c",
   "metadata": {},
   "outputs": [
    {
     "data": {
      "text/plain": [
       "(3423, 7)"
      ]
     },
     "execution_count": 29,
     "metadata": {},
     "output_type": "execute_result"
    }
   ],
   "source": [
    "df.shape"
   ]
  },
  {
   "cell_type": "code",
   "execution_count": 30,
   "id": "aa3604cd-f212-47bd-ad04-47ad227f413e",
   "metadata": {},
   "outputs": [
    {
     "data": {
      "text/html": [
       "<div><style>\n",
       ".dataframe > thead > tr,\n",
       ".dataframe > tbody > tr {\n",
       "  text-align: right;\n",
       "  white-space: pre-wrap;\n",
       "}\n",
       "</style>\n",
       "<small>shape: (3_423, 3)</small><table border=\"1\" class=\"dataframe\"><thead><tr><th>Date</th><th>Adj Close</th><th>Volume</th></tr><tr><td>str</td><td>f64</td><td>i64</td></tr></thead><tbody><tr><td>&quot;2007-01-03&quot;</td><td>28.585028</td><td>27097929</td></tr><tr><td>&quot;2007-01-04&quot;</td><td>27.696325</td><td>35752601</td></tr><tr><td>&quot;2007-01-05&quot;</td><td>28.262243</td><td>21196837</td></tr><tr><td>&quot;2007-01-08&quot;</td><td>28.631144</td><td>21997948</td></tr><tr><td>&quot;2007-01-09&quot;</td><td>27.880775</td><td>26330269</td></tr><tr><td>&hellip;</td><td>&hellip;</td><td>&hellip;</td></tr><tr><td>&quot;2020-07-31&quot;</td><td>32.372974</td><td>7719900</td></tr><tr><td>&quot;2020-08-03&quot;</td><td>31.784224</td><td>8064700</td></tr><tr><td>&quot;2020-08-04&quot;</td><td>32.589436</td><td>5808100</td></tr><tr><td>&quot;2020-08-05&quot;</td><td>32.918438</td><td>7315000</td></tr><tr><td>&quot;2020-08-06&quot;</td><td>32.944412</td><td>6588700</td></tr></tbody></table></div>"
      ],
      "text/plain": [
       "shape: (3_423, 3)\n",
       "┌────────────┬───────────┬──────────┐\n",
       "│ Date       ┆ Adj Close ┆ Volume   │\n",
       "│ ---        ┆ ---       ┆ ---      │\n",
       "│ str        ┆ f64       ┆ i64      │\n",
       "╞════════════╪═══════════╪══════════╡\n",
       "│ 2007-01-03 ┆ 28.585028 ┆ 27097929 │\n",
       "│ 2007-01-04 ┆ 27.696325 ┆ 35752601 │\n",
       "│ 2007-01-05 ┆ 28.262243 ┆ 21196837 │\n",
       "│ 2007-01-08 ┆ 28.631144 ┆ 21997948 │\n",
       "│ 2007-01-09 ┆ 27.880775 ┆ 26330269 │\n",
       "│ …          ┆ …         ┆ …        │\n",
       "│ 2020-07-31 ┆ 32.372974 ┆ 7719900  │\n",
       "│ 2020-08-03 ┆ 31.784224 ┆ 8064700  │\n",
       "│ 2020-08-04 ┆ 32.589436 ┆ 5808100  │\n",
       "│ 2020-08-05 ┆ 32.918438 ┆ 7315000  │\n",
       "│ 2020-08-06 ┆ 32.944412 ┆ 6588700  │\n",
       "└────────────┴───────────┴──────────┘"
      ]
     },
     "execution_count": 30,
     "metadata": {},
     "output_type": "execute_result"
    }
   ],
   "source": [
    "df.select(pl.col(\"Date\", \"Adj Close\", \"Volume\"))\n"
   ]
  },
  {
   "cell_type": "code",
   "execution_count": 31,
   "id": "439a9221-613a-419a-a14f-88b54ab0c1c6",
   "metadata": {},
   "outputs": [
    {
     "data": {
      "text/html": [
       "<div><style>\n",
       ".dataframe > thead > tr,\n",
       ".dataframe > tbody > tr {\n",
       "  text-align: right;\n",
       "  white-space: pre-wrap;\n",
       "}\n",
       "</style>\n",
       "<small>shape: (2_667, 7)</small><table border=\"1\" class=\"dataframe\"><thead><tr><th>Date</th><th>Open</th><th>High</th><th>Low</th><th>Close</th><th>Adj Close</th><th>Volume</th></tr><tr><td>str</td><td>f64</td><td>f64</td><td>f64</td><td>f64</td><td>f64</td><td>i64</td></tr></thead><tbody><tr><td>&quot;2010-01-04&quot;</td><td>39.46513</td><td>40.158836</td><td>39.282173</td><td>40.082603</td><td>24.102472</td><td>13880848</td></tr><tr><td>&quot;2010-01-05&quot;</td><td>40.135967</td><td>40.227444</td><td>39.800549</td><td>40.12072</td><td>24.125387</td><td>10084524</td></tr><tr><td>&quot;2010-01-06&quot;</td><td>40.151215</td><td>40.456139</td><td>39.892025</td><td>40.4104</td><td>24.299574</td><td>11631913</td></tr><tr><td>&quot;2010-01-07&quot;</td><td>40.181705</td><td>40.471386</td><td>40.021618</td><td>40.250313</td><td>24.203312</td><td>7648922</td></tr><tr><td>&quot;2010-01-08&quot;</td><td>40.105473</td><td>40.616226</td><td>39.968258</td><td>40.600979</td><td>24.414183</td><td>7284244</td></tr><tr><td>&hellip;</td><td>&hellip;</td><td>&hellip;</td><td>&hellip;</td><td>&hellip;</td><td>&hellip;</td><td>&hellip;</td></tr><tr><td>&quot;2020-07-31&quot;</td><td>37.049999</td><td>37.599998</td><td>36.709999</td><td>37.389999</td><td>32.372974</td><td>7719900</td></tr><tr><td>&quot;2020-08-03&quot;</td><td>37.27</td><td>37.389999</td><td>36.689999</td><td>36.709999</td><td>31.784224</td><td>8064700</td></tr><tr><td>&quot;2020-08-04&quot;</td><td>36.66</td><td>38.07</td><td>36.470001</td><td>37.639999</td><td>32.589436</td><td>5808100</td></tr><tr><td>&quot;2020-08-05&quot;</td><td>38.5</td><td>38.689999</td><td>37.709999</td><td>38.02</td><td>32.918438</td><td>7315000</td></tr><tr><td>&quot;2020-08-06&quot;</td><td>37.639999</td><td>38.43</td><td>37.610001</td><td>38.049999</td><td>32.944412</td><td>6588700</td></tr></tbody></table></div>"
      ],
      "text/plain": [
       "shape: (2_667, 7)\n",
       "┌────────────┬───────────┬───────────┬───────────┬───────────┬───────────┬──────────┐\n",
       "│ Date       ┆ Open      ┆ High      ┆ Low       ┆ Close     ┆ Adj Close ┆ Volume   │\n",
       "│ ---        ┆ ---       ┆ ---       ┆ ---       ┆ ---       ┆ ---       ┆ ---      │\n",
       "│ str        ┆ f64       ┆ f64       ┆ f64       ┆ f64       ┆ f64       ┆ i64      │\n",
       "╞════════════╪═══════════╪═══════════╪═══════════╪═══════════╪═══════════╪══════════╡\n",
       "│ 2010-01-04 ┆ 39.46513  ┆ 40.158836 ┆ 39.282173 ┆ 40.082603 ┆ 24.102472 ┆ 13880848 │\n",
       "│ 2010-01-05 ┆ 40.135967 ┆ 40.227444 ┆ 39.800549 ┆ 40.12072  ┆ 24.125387 ┆ 10084524 │\n",
       "│ 2010-01-06 ┆ 40.151215 ┆ 40.456139 ┆ 39.892025 ┆ 40.4104   ┆ 24.299574 ┆ 11631913 │\n",
       "│ 2010-01-07 ┆ 40.181705 ┆ 40.471386 ┆ 40.021618 ┆ 40.250313 ┆ 24.203312 ┆ 7648922  │\n",
       "│ 2010-01-08 ┆ 40.105473 ┆ 40.616226 ┆ 39.968258 ┆ 40.600979 ┆ 24.414183 ┆ 7284244  │\n",
       "│ …          ┆ …         ┆ …         ┆ …         ┆ …         ┆ …         ┆ …        │\n",
       "│ 2020-07-31 ┆ 37.049999 ┆ 37.599998 ┆ 36.709999 ┆ 37.389999 ┆ 32.372974 ┆ 7719900  │\n",
       "│ 2020-08-03 ┆ 37.27     ┆ 37.389999 ┆ 36.689999 ┆ 36.709999 ┆ 31.784224 ┆ 8064700  │\n",
       "│ 2020-08-04 ┆ 36.66     ┆ 38.07     ┆ 36.470001 ┆ 37.639999 ┆ 32.589436 ┆ 5808100  │\n",
       "│ 2020-08-05 ┆ 38.5      ┆ 38.689999 ┆ 37.709999 ┆ 38.02     ┆ 32.918438 ┆ 7315000  │\n",
       "│ 2020-08-06 ┆ 37.639999 ┆ 38.43     ┆ 37.610001 ┆ 38.049999 ┆ 32.944412 ┆ 6588700  │\n",
       "└────────────┴───────────┴───────────┴───────────┴───────────┴───────────┴──────────┘"
      ]
     },
     "execution_count": 31,
     "metadata": {},
     "output_type": "execute_result"
    }
   ],
   "source": [
    "df.filter(pl.col(\"Date\") > '2010-01-01')\n"
   ]
  },
  {
   "cell_type": "code",
   "execution_count": 33,
   "id": "d2e21529-629b-4876-a869-c5a1d7ef352a",
   "metadata": {},
   "outputs": [
    {
     "ename": "AttributeError",
     "evalue": "'Expr' object has no attribute 'np'",
     "output_type": "error",
     "traceback": [
      "\u001b[0;31m---------------------------------------------------------------------------\u001b[0m",
      "\u001b[0;31mAttributeError\u001b[0m                            Traceback (most recent call last)",
      "Cell \u001b[0;32mIn[33], line 1\u001b[0m\n\u001b[0;32m----> 1\u001b[0m df\u001b[38;5;241m.\u001b[39mwith_columns((\u001b[43mpl\u001b[49m\u001b[38;5;241;43m.\u001b[39;49m\u001b[43mcol\u001b[49m\u001b[43m(\u001b[49m\u001b[38;5;124;43m\"\u001b[39;49m\u001b[38;5;124;43mAdj Close\u001b[39;49m\u001b[38;5;124;43m\"\u001b[39;49m\u001b[43m)\u001b[49m\u001b[38;5;241;43m.\u001b[39;49m\u001b[43mnp\u001b[49m\u001b[38;5;241m.\u001b[39mlog(\u001b[38;5;124m\"\u001b[39m\u001b[38;5;124m%\u001b[39m\u001b[38;5;124mb\u001b[39m\u001b[38;5;124m\"\u001b[39m)\u001b[38;5;241m.\u001b[39malias(\u001b[38;5;124m\"\u001b[39m\u001b[38;5;124mlog_Adjclose\u001b[39m\u001b[38;5;124m\"\u001b[39m)))\n",
      "\u001b[0;31mAttributeError\u001b[0m: 'Expr' object has no attribute 'np'"
     ]
    }
   ],
   "source": [
    "df.with_columns((pl.col(\"Adj Close\").np.log(\"%b\").alias(\"log_Adjclose\")))\n"
   ]
  },
  {
   "cell_type": "code",
   "execution_count": 35,
   "id": "f1d9560d-327f-4aae-9d0f-3034d088bb16",
   "metadata": {},
   "outputs": [
    {
     "data": {
      "text/html": [
       "<div><style>\n",
       ".dataframe > thead > tr,\n",
       ".dataframe > tbody > tr {\n",
       "  text-align: right;\n",
       "  white-space: pre-wrap;\n",
       "}\n",
       "</style>\n",
       "<small>shape: (3_423, 8)</small><table border=\"1\" class=\"dataframe\"><thead><tr><th>Date</th><th>Open</th><th>High</th><th>Low</th><th>Close</th><th>Adj Close</th><th>Volume</th><th>pct_total</th></tr><tr><td>str</td><td>f64</td><td>f64</td><td>f64</td><td>f64</td><td>f64</td><td>i64</td><td>f64</td></tr></thead><tbody><tr><td>&quot;2007-01-03&quot;</td><td>54.353172</td><td>54.505634</td><td>51.761295</td><td>51.982365</td><td>28.585028</td><td>27097929</td><td>7.9077e-10</td></tr><tr><td>&quot;2007-01-04&quot;</td><td>51.15144</td><td>51.44112</td><td>49.649677</td><td>50.366257</td><td>27.696325</td><td>35752601</td><td>7.6618e-10</td></tr><tr><td>&quot;2007-01-05&quot;</td><td>50.846516</td><td>51.570717</td><td>50.366257</td><td>51.395382</td><td>28.262243</td><td>21196837</td><td>7.8184e-10</td></tr><tr><td>&quot;2007-01-08&quot;</td><td>51.913757</td><td>52.272045</td><td>51.15144</td><td>52.066219</td><td>28.631144</td><td>21997948</td><td>7.9204e-10</td></tr><tr><td>&quot;2007-01-09&quot;</td><td>51.075211</td><td>51.570717</td><td>50.625443</td><td>50.701675</td><td>27.880775</td><td>26330269</td><td>7.7128e-10</td></tr><tr><td>&hellip;</td><td>&hellip;</td><td>&hellip;</td><td>&hellip;</td><td>&hellip;</td><td>&hellip;</td><td>&hellip;</td><td>&hellip;</td></tr><tr><td>&quot;2020-07-31&quot;</td><td>37.049999</td><td>37.599998</td><td>36.709999</td><td>37.389999</td><td>32.372974</td><td>7719900</td><td>8.9555e-10</td></tr><tr><td>&quot;2020-08-03&quot;</td><td>37.27</td><td>37.389999</td><td>36.689999</td><td>36.709999</td><td>31.784224</td><td>8064700</td><td>8.7927e-10</td></tr><tr><td>&quot;2020-08-04&quot;</td><td>36.66</td><td>38.07</td><td>36.470001</td><td>37.639999</td><td>32.589436</td><td>5808100</td><td>9.0154e-10</td></tr><tr><td>&quot;2020-08-05&quot;</td><td>38.5</td><td>38.689999</td><td>37.709999</td><td>38.02</td><td>32.918438</td><td>7315000</td><td>9.1064e-10</td></tr><tr><td>&quot;2020-08-06&quot;</td><td>37.639999</td><td>38.43</td><td>37.610001</td><td>38.049999</td><td>32.944412</td><td>6588700</td><td>9.1136e-10</td></tr></tbody></table></div>"
      ],
      "text/plain": [
       "shape: (3_423, 8)\n",
       "┌────────────┬───────────┬───────────┬───────────┬───────────┬───────────┬──────────┬────────────┐\n",
       "│ Date       ┆ Open      ┆ High      ┆ Low       ┆ Close     ┆ Adj Close ┆ Volume   ┆ pct_total  │\n",
       "│ ---        ┆ ---       ┆ ---       ┆ ---       ┆ ---       ┆ ---       ┆ ---      ┆ ---        │\n",
       "│ str        ┆ f64       ┆ f64       ┆ f64       ┆ f64       ┆ f64       ┆ i64      ┆ f64        │\n",
       "╞════════════╪═══════════╪═══════════╪═══════════╪═══════════╪═══════════╪══════════╪════════════╡\n",
       "│ 2007-01-03 ┆ 54.353172 ┆ 54.505634 ┆ 51.761295 ┆ 51.982365 ┆ 28.585028 ┆ 27097929 ┆ 7.9077e-10 │\n",
       "│ 2007-01-04 ┆ 51.15144  ┆ 51.44112  ┆ 49.649677 ┆ 50.366257 ┆ 27.696325 ┆ 35752601 ┆ 7.6618e-10 │\n",
       "│ 2007-01-05 ┆ 50.846516 ┆ 51.570717 ┆ 50.366257 ┆ 51.395382 ┆ 28.262243 ┆ 21196837 ┆ 7.8184e-10 │\n",
       "│ 2007-01-08 ┆ 51.913757 ┆ 52.272045 ┆ 51.15144  ┆ 52.066219 ┆ 28.631144 ┆ 21997948 ┆ 7.9204e-10 │\n",
       "│ 2007-01-09 ┆ 51.075211 ┆ 51.570717 ┆ 50.625443 ┆ 50.701675 ┆ 27.880775 ┆ 26330269 ┆ 7.7128e-10 │\n",
       "│ …          ┆ …         ┆ …         ┆ …         ┆ …         ┆ …         ┆ …        ┆ …          │\n",
       "│ 2020-07-31 ┆ 37.049999 ┆ 37.599998 ┆ 36.709999 ┆ 37.389999 ┆ 32.372974 ┆ 7719900  ┆ 8.9555e-10 │\n",
       "│ 2020-08-03 ┆ 37.27     ┆ 37.389999 ┆ 36.689999 ┆ 36.709999 ┆ 31.784224 ┆ 8064700  ┆ 8.7927e-10 │\n",
       "│ 2020-08-04 ┆ 36.66     ┆ 38.07     ┆ 36.470001 ┆ 37.639999 ┆ 32.589436 ┆ 5808100  ┆ 9.0154e-10 │\n",
       "│ 2020-08-05 ┆ 38.5      ┆ 38.689999 ┆ 37.709999 ┆ 38.02     ┆ 32.918438 ┆ 7315000  ┆ 9.1064e-10 │\n",
       "│ 2020-08-06 ┆ 37.639999 ┆ 38.43     ┆ 37.610001 ┆ 38.049999 ┆ 32.944412 ┆ 6588700  ┆ 9.1136e-10 │\n",
       "└────────────┴───────────┴───────────┴───────────┴───────────┴───────────┴──────────┴────────────┘"
      ]
     },
     "execution_count": 35,
     "metadata": {},
     "output_type": "execute_result"
    }
   ],
   "source": [
    "df.with_columns(\n",
    "    (pl.col(\"Adj Close\") / pl.col(\"Volume\").sum()).alias(\"pct_total\")\n",
    ")"
   ]
  },
  {
   "cell_type": "code",
   "execution_count": null,
   "id": "74231141-fd8b-4274-a299-cba7610ab9d8",
   "metadata": {},
   "outputs": [],
   "source": []
  }
 ],
 "metadata": {
  "kernelspec": {
   "display_name": "Python 3 (ipykernel)",
   "language": "python",
   "name": "python3"
  },
  "language_info": {
   "codemirror_mode": {
    "name": "ipython",
    "version": 3
   },
   "file_extension": ".py",
   "mimetype": "text/x-python",
   "name": "python",
   "nbconvert_exporter": "python",
   "pygments_lexer": "ipython3",
   "version": "3.12.1"
  }
 },
 "nbformat": 4,
 "nbformat_minor": 5
}
