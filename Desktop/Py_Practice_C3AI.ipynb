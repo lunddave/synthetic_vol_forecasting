{
 "cells": [
  {
   "cell_type": "code",
   "execution_count": 3,
   "id": "8495687d-acb8-4e8d-9872-49af2adca365",
   "metadata": {},
   "outputs": [],
   "source": [
    "import pandas as pd\n",
    "import numpy as np\n",
    "import typing as typ"
   ]
  },
  {
   "cell_type": "code",
   "execution_count": 2,
   "id": "e1e600c5-59d3-4f15-aaf5-c0820c2ad12e",
   "metadata": {},
   "outputs": [],
   "source": [
    "# We write a function that take a paragraph as input and outputs the same paragraph but with\n",
    "# each sentence having each word spelling backward.  We also require a second argument for\n",
    "# a set of punctuation marks that we want the function to account for."
   ]
  },
  {
   "cell_type": "code",
   "execution_count": 93,
   "id": "fd7ec1a9-88b0-4c0b-8151-dff516689d70",
   "metadata": {},
   "outputs": [],
   "source": [
    "def backward_maker(graph: str, p_set: set) -> str:\n",
    "    # https://docs.python.org/3/library/typing.html\n",
    "\n",
    "    #Step 1: take apart\n",
    "    graph_as_word_list = list(graph.split(' '))\n",
    "\n",
    "    #Now, if we find a period, put it at end of new final word\n",
    "    \n",
    "    each_word_backward = [elem[::-1].replace('.', '') + str(elem.count('.')).replace('1','.').replace('0','') for elem in graph_as_word_list]\n",
    "\n",
    "    print(each_word_backward)\n",
    "\n",
    "    joined = ' '.join(each_word_backward)\n",
    "    \n",
    "    #Step 2: put back together\n",
    "    return(joined)"
   ]
  },
  {
   "cell_type": "code",
   "execution_count": 94,
   "id": "9b30185a-b8d4-4124-a366-d94388a8428e",
   "metadata": {},
   "outputs": [
    {
     "name": "stdout",
     "output_type": "stream",
     "text": [
      "['divaD', 'si', 'llat.', '', 'tuB', 'eh', 'sekam', 'sekatsim.']\n"
     ]
    },
    {
     "data": {
      "text/plain": [
       "'divaD si llat.  tuB eh sekam sekatsim.'"
      ]
     },
     "execution_count": 94,
     "metadata": {},
     "output_type": "execute_result"
    }
   ],
   "source": [
    "backward_maker('David is tall.  But he makes mistakes.', ['a'])"
   ]
  },
  {
   "cell_type": "code",
   "execution_count": 98,
   "id": "27d5da00-f8cb-4c66-8b33-cc61908910ee",
   "metadata": {},
   "outputs": [],
   "source": [
    "listt = [2,6,5,3,1]"
   ]
  },
  {
   "cell_type": "code",
   "execution_count": 99,
   "id": "4a962240-3ac3-4aa2-82d7-81b49be87ed8",
   "metadata": {},
   "outputs": [
    {
     "data": {
      "text/plain": [
       "[2, 6, 5, 3, 1]"
      ]
     },
     "execution_count": 99,
     "metadata": {},
     "output_type": "execute_result"
    }
   ],
   "source": [
    "listt"
   ]
  },
  {
   "cell_type": "code",
   "execution_count": 102,
   "id": "cc1f2163-9218-45f6-97a7-f3adb6459d33",
   "metadata": {},
   "outputs": [],
   "source": [
    "def summer(n, inputted_list):\n",
    "    if n == 0 and inputted_list.count(n) > 0:\n",
    "        return inputted_list.count(n)\n",
    "    elif n == 0:\n",
    "        return 0\n",
    "    else:\n",
    "        for k in range(n-1,1,-1):\n",
    "            print(f\"Our value of k is {k}.\")\n",
    "            if (k in inputted_list) and summer(n-k, inputted_list) > 0:\n",
    "                return inputted_list.count(k) * summer(n-k, inputted_list) \n",
    "            else:\n",
    "                return 0"
   ]
  },
  {
   "cell_type": "code",
   "execution_count": 127,
   "id": "a9a0e8f2-ecd4-4f06-961b-b3a4d1dd580a",
   "metadata": {},
   "outputs": [],
   "source": [
    "def summer(n, inputted_list):\n",
    "    if n == 0:\n",
    "        return inputted_list.count(n)\n",
    "    else:\n",
    "        for k in range(n):\n",
    "            print(f\"Our value of k is {k}.\")\n",
    "            return summer(n-k, inputted_list) "
   ]
  },
  {
   "cell_type": "code",
   "execution_count": 206,
   "id": "846a443f-9db9-4a1a-b117-b6499cf9d419",
   "metadata": {},
   "outputs": [],
   "source": [
    "def summer(n, inputted_list):\n",
    "    nc = [n - x for x in inputted_list]\n",
    "    \n",
    "    if n <= 0:\n",
    "        return inputted_list.count(n)\n",
    "    else:\n",
    "        print(f\"Our value of n is {n}.\")\n",
    "\n",
    "        if n in inputted_list:\n",
    "            return inputted_list.count(n) * summer(n-1, inputted_list.remove(n) )\n",
    "        else:\n",
    "            return inputted_list.count(n) * summer(n-1, inputted_list )"
   ]
  },
  {
   "cell_type": "code",
   "execution_count": 231,
   "id": "21f20486-9661-4f7d-a339-b65b0f7b1754",
   "metadata": {},
   "outputs": [],
   "source": [
    "def summer(n, inputted_list):\n",
    "    if n == 0:\n",
    "        return inputted_list.count(0)\n",
    "    else:\n",
    "        print(f\"Our value of n is {n}.\")\n",
    "        comp = [n - 1 - x for x in inputted_list]\n",
    "        print(comp)\n",
    "        return comp.count(1) * summer(n-1, inputted_list ) + inputted_list.count(n)"
   ]
  },
  {
   "cell_type": "code",
   "execution_count": 327,
   "id": "150b2205-c99e-40aa-8d8a-aca38395bcfa",
   "metadata": {},
   "outputs": [],
   "source": [
    "listt = []\n",
    "def summer(inputted_list):\n",
    "    if len(inputted_list) == 0:\n",
    "        return 0\n",
    "    elif len(inputted_list) == 1:\n",
    "        return inputted_list[0]\n",
    "    else:\n",
    "        listt.append(summer(inputted_list[1:]))\n",
    "        return listt.append(inputted_list[0] + summer(inputted_list[1:]))"
   ]
  },
  {
   "cell_type": "code",
   "execution_count": 328,
   "id": "16d55e5f-d574-4855-904f-e5c055e8da21",
   "metadata": {},
   "outputs": [],
   "source": [
    "combs = []\n",
    "\n",
    "def summer(n, arr):\n",
    "    if len(arr) == 0:\n",
    "        print('empty')\n",
    "    elif len(arr) == 1:\n",
    "        return [arr[0]]\n",
    "    else:\n",
    "        print(len(arr))\n",
    "        return( combs.append(  summer(n,arr[1:]) ) )"
   ]
  },
  {
   "cell_type": "code",
   "execution_count": 329,
   "id": "40e7e0ee-22a6-4a91-8687-1620cf9e5ea3",
   "metadata": {},
   "outputs": [
    {
     "name": "stdout",
     "output_type": "stream",
     "text": [
      "4\n",
      "3\n",
      "2\n"
     ]
    }
   ],
   "source": [
    "summer(1, [3,2,5,1])"
   ]
  },
  {
   "cell_type": "code",
   "execution_count": 330,
   "id": "35c384a6-0ca0-46cb-927d-e795c62c6825",
   "metadata": {},
   "outputs": [
    {
     "data": {
      "text/plain": [
       "[[1], None, None]"
      ]
     },
     "execution_count": 330,
     "metadata": {},
     "output_type": "execute_result"
    }
   ],
   "source": [
    "combs"
   ]
  },
  {
   "cell_type": "code",
   "execution_count": 331,
   "id": "ba0f75d6-5ed5-4f76-978c-7fb328444928",
   "metadata": {},
   "outputs": [
    {
     "ename": "SyntaxError",
     "evalue": "expected ':' (2625257459.py, line 2)",
     "output_type": "error",
     "traceback": [
      "\u001b[0;36m  Cell \u001b[0;32mIn[331], line 2\u001b[0;36m\u001b[0m\n\u001b[0;31m    if n == 0\u001b[0m\n\u001b[0m             ^\u001b[0m\n\u001b[0;31mSyntaxError\u001b[0m\u001b[0;31m:\u001b[0m expected ':'\n"
     ]
    }
   ],
   "source": [
    "def summer(n, arr):\n",
    "    if n == 0:\n",
    "        return 0\n",
    "    else:"
   ]
  },
  {
   "cell_type": "code",
   "execution_count": 333,
   "id": "453963c4-3af2-4918-a4bf-225d4bd02183",
   "metadata": {},
   "outputs": [
    {
     "name": "stdout",
     "output_type": "stream",
     "text": [
      "1 1 1 1 1 1 1 1 \n",
      "1 1 1 1 1 1 2 \n",
      "1 1 1 1 1 3 \n",
      "1 1 1 1 2 2 \n",
      "1 1 1 1 4 \n",
      "1 1 1 2 3 \n",
      "1 1 1 5 \n",
      "1 1 2 2 2 \n",
      "1 1 2 4 \n",
      "1 1 3 3 \n",
      "1 1 6 \n",
      "1 2 2 3 \n",
      "1 2 5 \n",
      "1 3 4 \n",
      "1 7 \n",
      "2 2 2 2 \n",
      "2 2 4 \n",
      "2 3 3 \n",
      "2 6 \n",
      "3 5 \n",
      "4 4 \n",
      "8 \n"
     ]
    }
   ],
   "source": [
    "def findCombinationsUtil(arr, index, num,\n",
    "                              reducedNum):\n",
    " \n",
    "    # Base condition\n",
    "    if (reducedNum < 0):\n",
    "        return\n",
    " \n",
    "    # If combination is \n",
    "    # found, print it\n",
    "    if (reducedNum == 0):\n",
    " \n",
    "        for i in range(index):\n",
    "            print(arr[i], end = \" \")\n",
    "        print(\"\")\n",
    "        return\n",
    " \n",
    "    # Find the previous number stored in arr[]. \n",
    "    # It helps in maintaining increasing order\n",
    "    prev = 1 if(index == 0) else arr[index - 1]\n",
    " \n",
    "    # note loop starts from previous \n",
    "    # number i.e. at array location\n",
    "    # index - 1\n",
    "    for k in range(prev, num + 1):\n",
    "         \n",
    "        # next element of array is k\n",
    "        arr[index] = k\n",
    " \n",
    "        # call recursively with\n",
    "        # reduced number\n",
    "        findCombinationsUtil(arr, index + 1, num, \n",
    "                                 reducedNum - k)\n",
    " \n",
    "# Function to find out all \n",
    "# combinations of positive numbers \n",
    "# that add upto given number.\n",
    "# It uses findCombinationsUtil() \n",
    "def findCombinations(n):\n",
    "     \n",
    "    # array to store the combinations\n",
    "    # It can contain max n elements\n",
    "    arr = [0] * n\n",
    " \n",
    "    # find all combinations\n",
    "    findCombinationsUtil(arr, 0, n, n)\n",
    " \n",
    "# Driver code\n",
    "findCombinations(8);\n",
    " \n",
    "# This code is contributed by mits"
   ]
  },
  {
   "cell_type": "code",
   "execution_count": 344,
   "id": "1d428bea-976e-491c-a6e5-d15094ca1283",
   "metadata": {},
   "outputs": [
    {
     "name": "stdout",
     "output_type": "stream",
     "text": [
      "1 1 1 \n",
      "1 2 \n"
     ]
    }
   ],
   "source": [
    "findCombinationsUtil([2,3,8,4,-3], 0, 2, 3)"
   ]
  },
  {
   "cell_type": "code",
   "execution_count": 1,
   "id": "cb07e3e9-ad25-4ba3-a681-b2be2f472be5",
   "metadata": {},
   "outputs": [],
   "source": [
    "arr1 = [2,3,4,9]\n",
    "arr2 = [2,5,2,4,11]"
   ]
  },
  {
   "cell_type": "code",
   "execution_count": 2,
   "id": "218d6413-01df-44ce-95b5-737a7b75e469",
   "metadata": {},
   "outputs": [
    {
     "data": {
      "text/plain": [
       "{2, 4}"
      ]
     },
     "execution_count": 2,
     "metadata": {},
     "output_type": "execute_result"
    }
   ],
   "source": [
    "set(arr1).intersection(set(arr2))"
   ]
  },
  {
   "cell_type": "code",
   "execution_count": 13,
   "id": "1d22922a-d9ca-4876-9891-36e971b44116",
   "metadata": {},
   "outputs": [],
   "source": [
    "dic = {'ron' : 2, 'ahmed' : 1, 'gladys' : 1, 'tanner' : 3}"
   ]
  },
  {
   "cell_type": "code",
   "execution_count": 14,
   "id": "aca23f25-87a9-47b7-96ec-d61d3cfdd537",
   "metadata": {},
   "outputs": [
    {
     "data": {
      "text/plain": [
       "dict_values([2, 1, 1, 3])"
      ]
     },
     "execution_count": 14,
     "metadata": {},
     "output_type": "execute_result"
    }
   ],
   "source": [
    "dic.values()"
   ]
  },
  {
   "cell_type": "code",
   "execution_count": 15,
   "id": "0d3db5de-4170-4fd1-8da3-2e9c4fe195a7",
   "metadata": {},
   "outputs": [
    {
     "data": {
      "text/plain": [
       "['ron', 'tanner']"
      ]
     },
     "execution_count": 15,
     "metadata": {},
     "output_type": "execute_result"
    }
   ],
   "source": [
    "[k for k, v in dic.items() if v > 1]"
   ]
  },
  {
   "cell_type": "code",
   "execution_count": 63,
   "id": "08e7c0ba-3bfd-4053-b5b5-860fe87faba9",
   "metadata": {},
   "outputs": [],
   "source": [
    "#Give an integer array, return the maximum product of three entries\n",
    "def maxx_finder(arr):\n",
    "    arr.sort()\n",
    "    if min(arr) >= 0:\n",
    "        num = arr[-1] * arr[-2] * arr[-3]\n",
    "    elif max(arr) < 0:\n",
    "        print(arr)\n",
    "        num = arr[-1] * arr[-2] * arr[-3]\n",
    "    else:\n",
    "        candidate1 = arr[0] * arr[-1] * arr[-2]\n",
    "        candidate2 = arr[-1] * arr[0] * arr[1]\n",
    "        num = max(candidate1, candidate2)\n",
    "    return num"
   ]
  },
  {
   "cell_type": "code",
   "execution_count": 64,
   "id": "b00a6bc5-7989-48bc-86f0-635e67c87d5c",
   "metadata": {},
   "outputs": [
    {
     "data": {
      "text/plain": [
       "135"
      ]
     },
     "execution_count": 64,
     "metadata": {},
     "output_type": "execute_result"
    }
   ],
   "source": [
    "maxx_finder([5,9,2,1,3])"
   ]
  },
  {
   "cell_type": "code",
   "execution_count": 67,
   "id": "c7449a7b-c424-47f6-a151-44f15ce29981",
   "metadata": {},
   "outputs": [
    {
     "data": {
      "text/plain": [
       "135"
      ]
     },
     "execution_count": 67,
     "metadata": {},
     "output_type": "execute_result"
    }
   ],
   "source": [
    "maxx_finder([-5,9,2,-1,-3])"
   ]
  },
  {
   "cell_type": "code",
   "execution_count": 68,
   "id": "e472afc2-68d0-4be3-81da-17805df9e582",
   "metadata": {},
   "outputs": [
    {
     "data": {
      "text/plain": [
       "['D', 'a', 'v', 'i', 'd']"
      ]
     },
     "execution_count": 68,
     "metadata": {},
     "output_type": "execute_result"
    }
   ],
   "source": [
    "list('David')"
   ]
  },
  {
   "cell_type": "code",
   "execution_count": 69,
   "id": "1b434771-3711-4e8d-97f6-67ddaae35fc7",
   "metadata": {},
   "outputs": [],
   "source": [
    "#Given a string, return the first recurring character in it, or “None” if there is no recurring character. \n",
    "#Example: input = \"pythoninterviewquestion\" , output = \"n\""
   ]
  },
  {
   "cell_type": "code",
   "execution_count": 86,
   "id": "e37f3048-0e35-43f9-8164-1a4e8ac90238",
   "metadata": {},
   "outputs": [],
   "source": [
    "sett = set()"
   ]
  },
  {
   "cell_type": "code",
   "execution_count": 82,
   "id": "7af01a1b-bcb1-4aee-ab19-dc39741065a8",
   "metadata": {},
   "outputs": [
    {
     "data": {
      "text/plain": [
       "{}"
      ]
     },
     "execution_count": 82,
     "metadata": {},
     "output_type": "execute_result"
    }
   ],
   "source": [
    "sett"
   ]
  },
  {
   "cell_type": "code",
   "execution_count": 73,
   "id": "593b286d-2f10-4b7d-a490-83a35a243fe4",
   "metadata": {},
   "outputs": [],
   "source": [
    "sett.add('b')"
   ]
  },
  {
   "cell_type": "code",
   "execution_count": 74,
   "id": "d92c3878-8e9a-4f0d-a02b-845108f7b461",
   "metadata": {},
   "outputs": [
    {
     "data": {
      "text/plain": [
       "{'a', 'b'}"
      ]
     },
     "execution_count": 74,
     "metadata": {},
     "output_type": "execute_result"
    }
   ],
   "source": [
    "sett"
   ]
  },
  {
   "cell_type": "code",
   "execution_count": 75,
   "id": "2a2f3e25-0dc1-4d6c-82f9-bbd8ad42f7c6",
   "metadata": {},
   "outputs": [
    {
     "data": {
      "text/plain": [
       "{'b'}"
      ]
     },
     "execution_count": 75,
     "metadata": {},
     "output_type": "execute_result"
    }
   ],
   "source": [
    "sett.difference('a')"
   ]
  },
  {
   "cell_type": "code",
   "execution_count": 77,
   "id": "ac54873e-2773-4f85-a462-c8f62b342905",
   "metadata": {},
   "outputs": [
    {
     "data": {
      "text/plain": [
       "False"
      ]
     },
     "execution_count": 77,
     "metadata": {},
     "output_type": "execute_result"
    }
   ],
   "source": [
    "'c' in sett.difference('a')"
   ]
  },
  {
   "cell_type": "code",
   "execution_count": 98,
   "id": "cbfe1d31-7dbe-4daf-8cda-174d71df4540",
   "metadata": {},
   "outputs": [],
   "source": [
    "def rep_finder(arr):\n",
    "    sett = set()\n",
    "    for elem in arr:\n",
    "        if not sett.isdisjoint(elem):\n",
    "            print('Our item is ', elem)\n",
    "            return elem\n",
    "        else:\n",
    "            sett.add(elem)\n",
    "    return None\n",
    "        "
   ]
  },
  {
   "cell_type": "code",
   "execution_count": 103,
   "id": "698feed1-8452-41d4-baf8-33d607d02f52",
   "metadata": {},
   "outputs": [],
   "source": [
    "test1 = list('Therno')"
   ]
  },
  {
   "cell_type": "code",
   "execution_count": 104,
   "id": "2104d975-1f5d-4b4a-82ac-f5a35c932c33",
   "metadata": {},
   "outputs": [],
   "source": [
    "rep_finder(test1)"
   ]
  },
  {
   "cell_type": "code",
   "execution_count": null,
   "id": "ee9e4783-7c88-4139-8367-23cf9254f2fe",
   "metadata": {},
   "outputs": [],
   "source": [
    "# Two sum. Given an array and a number N, return True if there are numbers A, B in the array such that A + B = N. \n",
    "#Otherwise, return False."
   ]
  },
  {
   "cell_type": "code",
   "execution_count": 110,
   "id": "f98a534a-00e0-4859-916d-af8fc989be14",
   "metadata": {},
   "outputs": [],
   "source": [
    "arr1 = [1, 2, 3, 4]\n",
    "arr2 = [3, 4, 6, 5, 8, 12]\n",
    "N = 5"
   ]
  },
  {
   "cell_type": "code",
   "execution_count": 120,
   "id": "6a1e0261-9e09-4dfa-a613-2d9eb52ab4be",
   "metadata": {},
   "outputs": [],
   "source": [
    "def two_sum(a,b,N):\n",
    "    comp_a = [N - x for x in a]\n",
    "    if len(set(arr2).intersection(set(comp_a)))> 0:\n",
    "        return True\n",
    "    else:\n",
    "        return False"
   ]
  },
  {
   "cell_type": "code",
   "execution_count": 122,
   "id": "f6911276-6bd8-47bb-9418-911495177c02",
   "metadata": {},
   "outputs": [
    {
     "data": {
      "text/plain": [
       "False"
      ]
     },
     "execution_count": 122,
     "metadata": {},
     "output_type": "execute_result"
    }
   ],
   "source": [
    "two_sum(arr1, arr2, 91)"
   ]
  },
  {
   "cell_type": "code",
   "execution_count": 124,
   "id": "4af739c7-b246-40b5-8b60-b67e3d4cd9e4",
   "metadata": {},
   "outputs": [],
   "source": [
    "def fib(n):\n",
    "    if n == 0:\n",
    "        return 1\n",
    "    else:\n",
    "        return n * fib(n-1)"
   ]
  },
  {
   "cell_type": "code",
   "execution_count": 126,
   "id": "6119180d-11fa-48dd-a12e-43c7173265c6",
   "metadata": {},
   "outputs": [
    {
     "data": {
      "text/plain": [
       "24"
      ]
     },
     "execution_count": 126,
     "metadata": {},
     "output_type": "execute_result"
    }
   ],
   "source": [
    "fib(4)"
   ]
  },
  {
   "cell_type": "code",
   "execution_count": 128,
   "id": "a0703d26-1780-4d68-856c-cf1b932041c6",
   "metadata": {},
   "outputs": [],
   "source": [
    "# remove duplicates from a sorted array\n",
    "def SA_dup_rem(arr):\n",
    "    to_output = []\n",
    "    for elem in arr:\n",
    "        if elem not in to_output:\n",
    "            to_output.append(elem)\n",
    "    return to_output\n",
    "        "
   ]
  },
  {
   "cell_type": "code",
   "execution_count": 129,
   "id": "47fd43e8-c5a8-4783-8504-3b7f53b5aaaa",
   "metadata": {},
   "outputs": [
    {
     "data": {
      "text/plain": [
       "[1, 2, 4, 5]"
      ]
     },
     "execution_count": 129,
     "metadata": {},
     "output_type": "execute_result"
    }
   ],
   "source": [
    "SA_dup_rem([1,2,4,4,5])"
   ]
  },
  {
   "cell_type": "code",
   "execution_count": 28,
   "id": "51df254c-a649-41dd-ac5f-77e4a3f91381",
   "metadata": {},
   "outputs": [],
   "source": [
    "#Question that Uber asked me on July 8th, 2024\n",
    "\n",
    "def asf(arr1, arr2):\n",
    "    init1 = 99999\n",
    "    init2 = []\n",
    "    for elem1 in arr1:\n",
    "        for elem2 in arr2:\n",
    "            if abs(elem1 - elem2) < init1:\n",
    "                init1 = abs(elem1 - elem2)\n",
    "                init2 = [(elem1, elem2)]\n",
    "            elif abs(elem1 - elem2) == init1:\n",
    "                init1 = abs(elem1 - elem2)\n",
    "                init2.append((elem1,elem2))\n",
    "            else:\n",
    "                pass\n",
    "    return(set(init2))"
   ]
  },
  {
   "cell_type": "code",
   "execution_count": 29,
   "id": "efe102d1-c9a1-4870-80ee-4effd74e9548",
   "metadata": {},
   "outputs": [
    {
     "data": {
      "text/plain": [
       "{(1, -3)}"
      ]
     },
     "execution_count": 29,
     "metadata": {},
     "output_type": "execute_result"
    }
   ],
   "source": [
    "asf([1,5,2],[-3,11,-3,-9])"
   ]
  },
  {
   "cell_type": "code",
   "execution_count": null,
   "id": "ed9b666d-7131-4426-a734-ee9275b9f05d",
   "metadata": {},
   "outputs": [],
   "source": []
  },
  {
   "cell_type": "code",
   "execution_count": null,
   "id": "db1ae27c-8cac-4485-aebd-616e5ccd5250",
   "metadata": {},
   "outputs": [],
   "source": []
  }
 ],
 "metadata": {
  "kernelspec": {
   "display_name": "Python 3 (ipykernel)",
   "language": "python",
   "name": "python3"
  },
  "language_info": {
   "codemirror_mode": {
    "name": "ipython",
    "version": 3
   },
   "file_extension": ".py",
   "mimetype": "text/x-python",
   "name": "python",
   "nbconvert_exporter": "python",
   "pygments_lexer": "ipython3",
   "version": "3.12.1"
  }
 },
 "nbformat": 4,
 "nbformat_minor": 5
}
