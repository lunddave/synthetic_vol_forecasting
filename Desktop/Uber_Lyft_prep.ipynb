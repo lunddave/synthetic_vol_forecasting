{
 "cells": [
  {
   "cell_type": "code",
   "execution_count": null,
   "id": "047ba845-dc03-4247-9168-89270fc13625",
   "metadata": {},
   "outputs": [],
   "source": [
    "#We write a function that takes two lists as input and outputs the elements\n",
    "#the have the smallest abs difference"
   ]
  },
  {
   "cell_type": "code",
   "execution_count": 13,
   "id": "7cc3def6-86eb-4f33-b493-fb7a31217f0f",
   "metadata": {},
   "outputs": [],
   "source": [
    "def f(a1,a2):\n",
    "    #init\n",
    "    minn = 99999\n",
    "    minn_holder = []\n",
    "\n",
    "    for elem1 in a1:\n",
    "        for elem2 in a2:\n",
    "            cand_val = abs(elem1 - elem2)\n",
    "            canv_pair = (elem1, elem2)\n",
    "\n",
    "            if cand_val < minn:\n",
    "                minn_holder = [canv_pair]\n",
    "                minn = cand_val\n",
    "                \n",
    "            elif cand_val == minn:\n",
    "                minn_holder.append(canv_pair)\n",
    "                minn = cand_val          \n",
    "\n",
    "    return(minn_holder)"
   ]
  },
  {
   "cell_type": "code",
   "execution_count": 14,
   "id": "0f918d35-6027-45e3-8dc4-b59837750076",
   "metadata": {},
   "outputs": [],
   "source": [
    "arr1 = [1,5,8,14]\n",
    "arr2 = [-6,-2,3,19]"
   ]
  },
  {
   "cell_type": "code",
   "execution_count": 15,
   "id": "88adbeb7-628a-473f-8ee3-951b529be236",
   "metadata": {},
   "outputs": [
    {
     "data": {
      "text/plain": [
       "[(1, 3), (5, 3)]"
      ]
     },
     "execution_count": 15,
     "metadata": {},
     "output_type": "execute_result"
    }
   ],
   "source": [
    "f(arr1,arr2)"
   ]
  },
  {
   "cell_type": "code",
   "execution_count": null,
   "id": "0e8c6fe6-6733-411d-8dae-46d8fccdaa15",
   "metadata": {},
   "outputs": [],
   "source": [
    "#Given an array of strings words and an integer k, return the k most frequent strings.\n",
    "\n"
   ]
  },
  {
   "cell_type": "code",
   "execution_count": 16,
   "id": "26c05cb8-00ac-4b2b-879c-57f549a95efe",
   "metadata": {},
   "outputs": [],
   "source": [
    "bigstring = 'davidlundquistborninwoodburyheightsnewjerseywenttocollegeinwashingtondc'"
   ]
  },
  {
   "cell_type": "code",
   "execution_count": 29,
   "id": "38e8d6d4-1315-4a51-a9d6-6d084c0a36b9",
   "metadata": {},
   "outputs": [],
   "source": [
    "def srtr(inp):\n",
    "    listt = list(inp)\n",
    "\n",
    "    d = {}\n",
    "\n",
    "    for elem in listt:\n",
    "        if d.get(elem) is None:\n",
    "            d[elem] = 1\n",
    "        else:\n",
    "            val = d.get(elem)\n",
    "            d.update({elem:val+1})\n",
    "    return d"
   ]
  },
  {
   "cell_type": "code",
   "execution_count": 30,
   "id": "efc50e65-9a7e-401f-9067-74f8ee79826f",
   "metadata": {},
   "outputs": [
    {
     "data": {
      "text/plain": [
       "{'d': 5,\n",
       " 'a': 2,\n",
       " 'v': 1,\n",
       " 'i': 6,\n",
       " 'l': 3,\n",
       " 'u': 3,\n",
       " 'n': 8,\n",
       " 'q': 1,\n",
       " 's': 4,\n",
       " 't': 5,\n",
       " 'b': 2,\n",
       " 'o': 6,\n",
       " 'r': 3,\n",
       " 'w': 4,\n",
       " 'y': 2,\n",
       " 'h': 3,\n",
       " 'e': 7,\n",
       " 'g': 3,\n",
       " 'j': 1,\n",
       " 'c': 2}"
      ]
     },
     "execution_count": 30,
     "metadata": {},
     "output_type": "execute_result"
    }
   ],
   "source": [
    "srtr(bigstring)"
   ]
  },
  {
   "cell_type": "code",
   "execution_count": 18,
   "id": "25726726-9511-4dcc-87a2-e62d523f6232",
   "metadata": {},
   "outputs": [],
   "source": [
    "d = {'david' : 5}"
   ]
  },
  {
   "cell_type": "code",
   "execution_count": 26,
   "id": "dabbc22f-a2a2-46ca-8714-ea2056e949b4",
   "metadata": {},
   "outputs": [],
   "source": [
    "t = d.get('g')"
   ]
  },
  {
   "cell_type": "code",
   "execution_count": 27,
   "id": "c49331f7-43b9-430a-ae59-8e387b3e5526",
   "metadata": {},
   "outputs": [],
   "source": [
    "t"
   ]
  },
  {
   "cell_type": "code",
   "execution_count": 23,
   "id": "25c37ff1-a0a0-45d5-9450-6c22f5945684",
   "metadata": {},
   "outputs": [
    {
     "data": {
      "text/plain": [
       "dict"
      ]
     },
     "execution_count": 23,
     "metadata": {},
     "output_type": "execute_result"
    }
   ],
   "source": [
    "type(d)"
   ]
  },
  {
   "cell_type": "code",
   "execution_count": 31,
   "id": "e1ccd33c-96fd-4901-936f-3875e4f42a99",
   "metadata": {},
   "outputs": [],
   "source": [
    "# Let us write a python function that takes a string and switches all cases"
   ]
  },
  {
   "cell_type": "code",
   "execution_count": 36,
   "id": "024b4e86-957d-4094-b447-502810982373",
   "metadata": {},
   "outputs": [],
   "source": [
    "def f(s):\n",
    "    holder = []\n",
    "    for elem in list(s):\n",
    "        if elem.islower():\n",
    "            holder.append(elem.upper())\n",
    "        else:\n",
    "            holder.append(elem.lower())\n",
    "    return ''.join(holder)"
   ]
  },
  {
   "cell_type": "code",
   "execution_count": 39,
   "id": "c3f122e5-3f9f-4c13-a376-990e821b4708",
   "metadata": {},
   "outputs": [],
   "source": [
    "test1 = 'David is a graduatestudentinIllinois.'"
   ]
  },
  {
   "cell_type": "code",
   "execution_count": 40,
   "id": "7b9e6730-519a-4776-8995-7b13e4577f24",
   "metadata": {},
   "outputs": [
    {
     "data": {
      "text/plain": [
       "'dAVID IS A GRADUATESTUDENTINiLLINOIS.'"
      ]
     },
     "execution_count": 40,
     "metadata": {},
     "output_type": "execute_result"
    }
   ],
   "source": [
    "f(test1)"
   ]
  },
  {
   "cell_type": "code",
   "execution_count": 45,
   "id": "bd3de1c3-6ffe-4b9c-96d5-245e817b4896",
   "metadata": {},
   "outputs": [],
   "source": [
    "def n_printer(x):\n",
    "    if x == 1:\n",
    "        return(x)\n",
    "    else:\n",
    "        print(x)\n",
    "        return(n_printer(x-1))"
   ]
  },
  {
   "cell_type": "code",
   "execution_count": 46,
   "id": "7b03313a-89b9-4e81-8927-6386efedce30",
   "metadata": {},
   "outputs": [
    {
     "name": "stdout",
     "output_type": "stream",
     "text": [
      "5\n",
      "4\n",
      "3\n",
      "2\n"
     ]
    },
    {
     "data": {
      "text/plain": [
       "1"
      ]
     },
     "execution_count": 46,
     "metadata": {},
     "output_type": "execute_result"
    }
   ],
   "source": [
    "n_printer(5)"
   ]
  },
  {
   "cell_type": "code",
   "execution_count": 48,
   "id": "e3df61da-7f56-4b63-9937-c573b64e8480",
   "metadata": {},
   "outputs": [],
   "source": [
    "def f(n):\n",
    "    if n == 1:\n",
    "        return 1\n",
    "    else:\n",
    "        return(f(n-1) + n)"
   ]
  },
  {
   "cell_type": "code",
   "execution_count": 49,
   "id": "1be2d2ce-a630-4b59-beba-2b81a6b096e8",
   "metadata": {},
   "outputs": [
    {
     "data": {
      "text/plain": [
       "15"
      ]
     },
     "execution_count": 49,
     "metadata": {},
     "output_type": "execute_result"
    }
   ],
   "source": [
    "f(5)"
   ]
  },
  {
   "cell_type": "code",
   "execution_count": null,
   "id": "f4890285-1768-4997-aec4-1f3a127d189b",
   "metadata": {},
   "outputs": [],
   "source": []
  }
 ],
 "metadata": {
  "kernelspec": {
   "display_name": "Python 3 (ipykernel)",
   "language": "python",
   "name": "python3"
  },
  "language_info": {
   "codemirror_mode": {
    "name": "ipython",
    "version": 3
   },
   "file_extension": ".py",
   "mimetype": "text/x-python",
   "name": "python",
   "nbconvert_exporter": "python",
   "pygments_lexer": "ipython3",
   "version": "3.12.1"
  }
 },
 "nbformat": 4,
 "nbformat_minor": 5
}
