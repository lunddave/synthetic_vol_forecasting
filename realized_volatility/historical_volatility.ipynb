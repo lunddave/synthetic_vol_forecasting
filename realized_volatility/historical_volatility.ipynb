{
 "cells": [
  {
   "cell_type": "code",
   "execution_count": 2,
   "id": "adbd7b29",
   "metadata": {},
   "outputs": [],
   "source": [
    "import pandas as pd\n",
    "import datetime\n",
    "import numpy as np\n",
    "import matplotlib.pyplot as plt"
   ]
  },
  {
   "cell_type": "code",
   "execution_count": 3,
   "id": "25501812",
   "metadata": {},
   "outputs": [],
   "source": [
    "dat = pd.read_csv('/home/david/Desktop/stock_market_data/IYG.csv')"
   ]
  },
  {
   "cell_type": "code",
   "execution_count": 4,
   "id": "72240155",
   "metadata": {},
   "outputs": [
    {
     "data": {
      "text/html": [
       "<div>\n",
       "<style scoped>\n",
       "    .dataframe tbody tr th:only-of-type {\n",
       "        vertical-align: middle;\n",
       "    }\n",
       "\n",
       "    .dataframe tbody tr th {\n",
       "        vertical-align: top;\n",
       "    }\n",
       "\n",
       "    .dataframe thead th {\n",
       "        text-align: right;\n",
       "    }\n",
       "</style>\n",
       "<table border=\"1\" class=\"dataframe\">\n",
       "  <thead>\n",
       "    <tr style=\"text-align: right;\">\n",
       "      <th></th>\n",
       "      <th>Date</th>\n",
       "      <th>Open</th>\n",
       "      <th>High</th>\n",
       "      <th>Low</th>\n",
       "      <th>Close</th>\n",
       "      <th>Adj Close</th>\n",
       "      <th>Volume</th>\n",
       "    </tr>\n",
       "  </thead>\n",
       "  <tbody>\n",
       "    <tr>\n",
       "      <th>0</th>\n",
       "      <td>2015-11-09</td>\n",
       "      <td>95.250000</td>\n",
       "      <td>95.250000</td>\n",
       "      <td>93.629997</td>\n",
       "      <td>94.099998</td>\n",
       "      <td>82.540474</td>\n",
       "      <td>979200</td>\n",
       "    </tr>\n",
       "    <tr>\n",
       "      <th>1</th>\n",
       "      <td>2015-11-10</td>\n",
       "      <td>93.919998</td>\n",
       "      <td>94.480003</td>\n",
       "      <td>93.480003</td>\n",
       "      <td>94.400002</td>\n",
       "      <td>82.803642</td>\n",
       "      <td>46200</td>\n",
       "    </tr>\n",
       "    <tr>\n",
       "      <th>2</th>\n",
       "      <td>2015-11-11</td>\n",
       "      <td>94.860001</td>\n",
       "      <td>94.860001</td>\n",
       "      <td>93.989998</td>\n",
       "      <td>94.070000</td>\n",
       "      <td>82.514153</td>\n",
       "      <td>63700</td>\n",
       "    </tr>\n",
       "    <tr>\n",
       "      <th>3</th>\n",
       "      <td>2015-11-12</td>\n",
       "      <td>93.769997</td>\n",
       "      <td>93.769997</td>\n",
       "      <td>92.360001</td>\n",
       "      <td>92.379997</td>\n",
       "      <td>81.031761</td>\n",
       "      <td>70900</td>\n",
       "    </tr>\n",
       "    <tr>\n",
       "      <th>4</th>\n",
       "      <td>2015-11-13</td>\n",
       "      <td>92.180000</td>\n",
       "      <td>92.410004</td>\n",
       "      <td>91.279999</td>\n",
       "      <td>91.510002</td>\n",
       "      <td>80.268654</td>\n",
       "      <td>35800</td>\n",
       "    </tr>\n",
       "  </tbody>\n",
       "</table>\n",
       "</div>"
      ],
      "text/plain": [
       "         Date       Open       High        Low      Close  Adj Close  Volume\n",
       "0  2015-11-09  95.250000  95.250000  93.629997  94.099998  82.540474  979200\n",
       "1  2015-11-10  93.919998  94.480003  93.480003  94.400002  82.803642   46200\n",
       "2  2015-11-11  94.860001  94.860001  93.989998  94.070000  82.514153   63700\n",
       "3  2015-11-12  93.769997  93.769997  92.360001  92.379997  81.031761   70900\n",
       "4  2015-11-13  92.180000  92.410004  91.279999  91.510002  80.268654   35800"
      ]
     },
     "execution_count": 4,
     "metadata": {},
     "output_type": "execute_result"
    }
   ],
   "source": [
    "dat.head()"
   ]
  },
  {
   "cell_type": "code",
   "execution_count": 6,
   "id": "99c4ccbe",
   "metadata": {},
   "outputs": [],
   "source": [
    "#make column for log return\n",
    "dat['log_adj_close'] = np.log(dat['Adj Close'])"
   ]
  },
  {
   "cell_type": "code",
   "execution_count": 7,
   "id": "16a2f3cd",
   "metadata": {},
   "outputs": [],
   "source": [
    "dat['log_return'] = dat['log_adj_close'].diff()"
   ]
  },
  {
   "cell_type": "code",
   "execution_count": 10,
   "id": "278caa3e",
   "metadata": {},
   "outputs": [
    {
     "data": {
      "text/plain": [
       "0.00019190193096551715"
      ]
     },
     "execution_count": 10,
     "metadata": {},
     "output_type": "execute_result"
    }
   ],
   "source": [
    "np.var(dat['log_return'])"
   ]
  },
  {
   "cell_type": "code",
   "execution_count": 9,
   "id": "ee3e2eea",
   "metadata": {},
   "outputs": [
    {
     "data": {
      "image/png": "[encoded data removed]",
      "text/plain": [
       "<Figure size 432x288 with 1 Axes>"
      ]
     },
     "metadata": {
      "needs_background": "light"
     },
     "output_type": "display_data"
    }
   ],
   "source": [
    "import matplotlib.pyplot as plt\n",
    "import numpy as np\n",
    "\n",
    "plt.hist(dat['log_return'])\n",
    "plt.show() "
   ]
  },
  {
   "cell_type": "code",
   "execution_count": null,
   "id": "fccbb6d5",
   "metadata": {},
   "outputs": [],
   "source": []
  }
 ],
 "metadata": {
  "kernelspec": {
   "display_name": "Python 3",
   "language": "python",
   "name": "python3"
  },
  "language_info": {
   "codemirror_mode": {
    "name": "ipython",
    "version": 3
   },
   "file_extension": ".py",
   "mimetype": "text/x-python",
   "name": "python",
   "nbconvert_exporter": "python",
   "pygments_lexer": "ipython3",
   "version": "3.8.8"
  }
 },
 "nbformat": 4,
 "nbformat_minor": 5
}
