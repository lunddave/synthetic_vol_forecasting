{
 "cells": [
  {
   "cell_type": "code",
   "execution_count": 19,
   "id": "304614e2-b701-4f80-aa0c-d78b27b67906",
   "metadata": {},
   "outputs": [],
   "source": [
    "import numpy as np\n",
    "import matplotlib.pyplot as plt\n",
    "import pandas as pd\n",
    "import tensorflow as tf\n",
    "from tensorflow.keras.models import Sequential\n",
    "from tensorflow.keras.layers import Dense\n",
    "from tensorflow.keras.layers import LSTM\n",
    "from sklearn.preprocessing import MinMaxScaler\n",
    "from sklearn.metrics import mean_squared_error\n",
    "import yfinance as yf\n",
    "import numpy as np\n",
    "from datetime import datetime, timedelta\n"
   ]
  },
  {
   "cell_type": "code",
   "execution_count": 63,
   "id": "0d457b7f-14f9-4de2-8c1a-a4e5d9b114fc",
   "metadata": {},
   "outputs": [],
   "source": [
    "weight_dict = {'2008-09-24' :0.273, '2014-11-26' : 0.727, '2020-03-06' : np.nan}"
   ]
  },
  {
   "cell_type": "code",
   "execution_count": 64,
   "id": "60ea6b78-5931-42b2-9ec1-9c327d95648b",
   "metadata": {},
   "outputs": [],
   "source": []
  },
  {
   "cell_type": "code",
   "execution_count": 65,
   "id": "49f9b241-5978-4ec1-910f-6ea091de1dcd",
   "metadata": {},
   "outputs": [],
   "source": [
    "# fix random seed for reproducibility\n",
    "tf.random.set_seed(7)"
   ]
  },
  {
   "cell_type": "code",
   "execution_count": 66,
   "id": "7b415724-e83d-4b78-b31f-9cf80de0da99",
   "metadata": {},
   "outputs": [],
   "source": [
    "# plt.plot(donor5)\n",
    "# plt.show()"
   ]
  },
  {
   "cell_type": "code",
   "execution_count": 67,
   "id": "43e599e4-cf8d-453e-b7ed-e8f0b8953f56",
   "metadata": {},
   "outputs": [],
   "source": [
    "COP = yf.Ticker(\"COP\")"
   ]
  },
  {
   "cell_type": "code",
   "execution_count": null,
   "id": "5d879e2f-1326-4b6a-a4d7-dd8b547f1962",
   "metadata": {},
   "outputs": [],
   "source": []
  },
  {
   "cell_type": "code",
   "execution_count": 68,
   "id": "7a1f6f80-d9bc-4309-a8c6-e38e3ac56f00",
   "metadata": {},
   "outputs": [],
   "source": [
    "def create_dataset(dataset, look_back=1):\n",
    "    dataX, dataY = [], []\n",
    "    for i in range(len(dataset)-look_back-1):\n",
    "        a = dataset[i:(i+look_back), 0]\n",
    "        dataX.append(a)\n",
    "        dataY.append(dataset[i + look_back, 0])\n",
    "    return np.array(dataX), np.array(dataY)"
   ]
  },
  {
   "cell_type": "code",
   "execution_count": 133,
   "id": "764ac669-d2e2-4b13-bad1-852e4c029bfb",
   "metadata": {},
   "outputs": [
    {
     "name": "stdout",
     "output_type": "stream",
     "text": [
      "We will now use  2008-09-24 00:00:00\n",
      "Training period begins  2008-03-08 00:00:00\n",
      "Period to predict begins  2008-09-25 00:00:00\n",
      "Prediction period ends  2008-10-02 00:00:00\n",
      "Our training set has size  (138, 1)\n",
      "Our testing set has size  (5, 1)\n",
      "Epoch 1/25\n"
     ]
    },
    {
     "name": "stderr",
     "output_type": "stream",
     "text": [
      "/Library/Frameworks/Python.framework/Versions/3.12/lib/python3.12/site-packages/yfinance/utils.py:775: FutureWarning: The 'unit' keyword in TimedeltaIndex construction is deprecated and will be removed in a future version. Use pd.to_timedelta instead.\n",
      "  df.index += _pd.TimedeltaIndex(dst_error_hours, 'h')\n",
      "/Library/Frameworks/Python.framework/Versions/3.12/lib/python3.12/site-packages/keras/src/layers/rnn/rnn.py:204: UserWarning: Do not pass an `input_shape`/`input_dim` argument to a layer. When using Sequential models, prefer using an `Input(shape)` object as the first layer in the model instead.\n",
      "  super().__init__(**kwargs)\n"
     ]
    },
    {
     "name": "stdout",
     "output_type": "stream",
     "text": [
      "34/34 - 0s - 9ms/step - loss: 0.2818\n",
      "Epoch 2/25\n",
      "34/34 - 0s - 404us/step - loss: 0.2178\n",
      "Epoch 3/25\n",
      "34/34 - 0s - 389us/step - loss: 0.1655\n",
      "Epoch 4/25\n",
      "34/34 - 0s - 354us/step - loss: 0.1238\n",
      "Epoch 5/25\n",
      "34/34 - 0s - 352us/step - loss: 0.0918\n",
      "Epoch 6/25\n",
      "34/34 - 0s - 370us/step - loss: 0.0685\n",
      "Epoch 7/25\n",
      "34/34 - 0s - 378us/step - loss: 0.0524\n",
      "Epoch 8/25\n",
      "34/34 - 0s - 377us/step - loss: 0.0420\n",
      "Epoch 9/25\n",
      "34/34 - 0s - 371us/step - loss: 0.0356\n",
      "Epoch 10/25\n",
      "34/34 - 0s - 389us/step - loss: 0.0318\n",
      "Epoch 11/25\n",
      "34/34 - 0s - 377us/step - loss: 0.0294\n",
      "Epoch 12/25\n",
      "34/34 - 0s - 361us/step - loss: 0.0278\n",
      "Epoch 13/25\n",
      "34/34 - 0s - 379us/step - loss: 0.0265\n",
      "Epoch 14/25\n",
      "34/34 - 0s - 373us/step - loss: 0.0254\n",
      "Epoch 15/25\n",
      "34/34 - 0s - 379us/step - loss: 0.0243\n",
      "Epoch 16/25\n",
      "34/34 - 0s - 360us/step - loss: 0.0232\n",
      "Epoch 17/25\n",
      "34/34 - 0s - 374us/step - loss: 0.0221\n",
      "Epoch 18/25\n",
      "34/34 - 0s - 373us/step - loss: 0.0210\n",
      "Epoch 19/25\n",
      "34/34 - 0s - 373us/step - loss: 0.0199\n",
      "Epoch 20/25\n",
      "34/34 - 0s - 388us/step - loss: 0.0188\n",
      "Epoch 21/25\n",
      "34/34 - 0s - 394us/step - loss: 0.0176\n",
      "Epoch 22/25\n",
      "34/34 - 0s - 370us/step - loss: 0.0164\n",
      "Epoch 23/25\n",
      "34/34 - 0s - 375us/step - loss: 0.0152\n",
      "Epoch 24/25\n",
      "34/34 - 0s - 411us/step - loss: 0.0141\n",
      "Epoch 25/25\n",
      "34/34 - 0s - 391us/step - loss: 0.0129\n",
      "\u001b[1m5/5\u001b[0m \u001b[32m━━━━━━━━━━━━━━━━━━━━\u001b[0m\u001b[37m\u001b[0m \u001b[1m0s\u001b[0m 9ms/step \n",
      "\u001b[1m1/1\u001b[0m \u001b[32m━━━━━━━━━━━━━━━━━━━━\u001b[0m\u001b[37m\u001b[0m \u001b[1m0s\u001b[0m 5ms/step\n",
      "We print the predictions [[34.683964]\n",
      " [34.50732 ]\n",
      " [32.514633]]\n",
      "We print the ground truth [[33.20644379 30.18806839 31.90413666]]\n",
      "The dimension of the residuals is  (3, 3)\n",
      "We will now use  2014-11-26 00:00:00\n",
      "Training period begins  2014-05-10 00:00:00\n",
      "Period to predict begins  2014-11-27 00:00:00\n",
      "Prediction period ends  2014-12-04 00:00:00\n",
      "Our training set has size  (139, 1)\n",
      "Our testing set has size  (4, 1)\n",
      "Epoch 1/25\n"
     ]
    },
    {
     "name": "stderr",
     "output_type": "stream",
     "text": [
      "/Library/Frameworks/Python.framework/Versions/3.12/lib/python3.12/site-packages/yfinance/utils.py:775: FutureWarning: The 'unit' keyword in TimedeltaIndex construction is deprecated and will be removed in a future version. Use pd.to_timedelta instead.\n",
      "  df.index += _pd.TimedeltaIndex(dst_error_hours, 'h')\n",
      "/Library/Frameworks/Python.framework/Versions/3.12/lib/python3.12/site-packages/keras/src/layers/rnn/rnn.py:204: UserWarning: Do not pass an `input_shape`/`input_dim` argument to a layer. When using Sequential models, prefer using an `Input(shape)` object as the first layer in the model instead.\n",
      "  super().__init__(**kwargs)\n"
     ]
    },
    {
     "name": "stdout",
     "output_type": "stream",
     "text": [
      "35/35 - 0s - 10ms/step - loss: 0.3147\n",
      "Epoch 2/25\n",
      "35/35 - 0s - 429us/step - loss: 0.2405\n",
      "Epoch 3/25\n",
      "35/35 - 0s - 401us/step - loss: 0.1749\n",
      "Epoch 4/25\n",
      "35/35 - 0s - 383us/step - loss: 0.1197\n",
      "Epoch 5/25\n",
      "35/35 - 0s - 404us/step - loss: 0.0776\n",
      "Epoch 6/25\n",
      "35/35 - 0s - 410us/step - loss: 0.0500\n",
      "Epoch 7/25\n",
      "35/35 - 0s - 413us/step - loss: 0.0348\n",
      "Epoch 8/25\n",
      "35/35 - 0s - 416us/step - loss: 0.0279\n",
      "Epoch 9/25\n",
      "35/35 - 0s - 437us/step - loss: 0.0250\n",
      "Epoch 10/25\n",
      "35/35 - 0s - 431us/step - loss: 0.0234\n",
      "Epoch 11/25\n",
      "35/35 - 0s - 421us/step - loss: 0.0222\n",
      "Epoch 12/25\n",
      "35/35 - 0s - 414us/step - loss: 0.0211\n",
      "Epoch 13/25\n",
      "35/35 - 0s - 430us/step - loss: 0.0200\n",
      "Epoch 14/25\n",
      "35/35 - 0s - 417us/step - loss: 0.0189\n",
      "Epoch 15/25\n",
      "35/35 - 0s - 423us/step - loss: 0.0178\n",
      "Epoch 16/25\n",
      "35/35 - 0s - 403us/step - loss: 0.0167\n",
      "Epoch 17/25\n",
      "35/35 - 0s - 398us/step - loss: 0.0157\n",
      "Epoch 18/25\n",
      "35/35 - 0s - 402us/step - loss: 0.0146\n",
      "Epoch 19/25\n",
      "35/35 - 0s - 407us/step - loss: 0.0136\n",
      "Epoch 20/25\n",
      "35/35 - 0s - 415us/step - loss: 0.0126\n",
      "Epoch 21/25\n",
      "35/35 - 0s - 402us/step - loss: 0.0116\n",
      "Epoch 22/25\n",
      "35/35 - 0s - 414us/step - loss: 0.0107\n",
      "Epoch 23/25\n",
      "35/35 - 0s - 398us/step - loss: 0.0098\n",
      "Epoch 24/25\n",
      "35/35 - 0s - 400us/step - loss: 0.0089\n",
      "Epoch 25/25\n",
      "35/35 - 0s - 408us/step - loss: 0.0081\n",
      "\u001b[1m5/5\u001b[0m \u001b[32m━━━━━━━━━━━━━━━━━━━━\u001b[0m\u001b[37m\u001b[0m \u001b[1m0s\u001b[0m 8ms/step \n",
      "\u001b[1m1/1\u001b[0m \u001b[32m━━━━━━━━━━━━━━━━━━━━\u001b[0m\u001b[37m\u001b[0m \u001b[1m0s\u001b[0m 4ms/step\n",
      "We print the predictions [[51.57873]\n",
      " [52.35168]]\n",
      "We print the ground truth [[49.82816696 50.88692474]]\n",
      "The dimension of the residuals is  (2, 2)\n",
      "We will now use  2020-03-06 00:00:00\n",
      "Training period begins  2019-08-19 00:00:00\n",
      "Period to predict begins  2020-03-07 00:00:00\n",
      "Prediction period ends  2020-03-14 00:00:00\n",
      "Our training set has size  (138, 1)\n",
      "Our testing set has size  (5, 1)\n",
      "Epoch 1/25\n"
     ]
    },
    {
     "name": "stderr",
     "output_type": "stream",
     "text": [
      "/Library/Frameworks/Python.framework/Versions/3.12/lib/python3.12/site-packages/yfinance/utils.py:775: FutureWarning: The 'unit' keyword in TimedeltaIndex construction is deprecated and will be removed in a future version. Use pd.to_timedelta instead.\n",
      "  df.index += _pd.TimedeltaIndex(dst_error_hours, 'h')\n",
      "/Library/Frameworks/Python.framework/Versions/3.12/lib/python3.12/site-packages/keras/src/layers/rnn/rnn.py:204: UserWarning: Do not pass an `input_shape`/`input_dim` argument to a layer. When using Sequential models, prefer using an `Input(shape)` object as the first layer in the model instead.\n",
      "  super().__init__(**kwargs)\n"
     ]
    },
    {
     "name": "stdout",
     "output_type": "stream",
     "text": [
      "34/34 - 0s - 8ms/step - loss: 0.4390\n",
      "Epoch 2/25\n",
      "34/34 - 0s - 439us/step - loss: 0.3562\n",
      "Epoch 3/25\n",
      "34/34 - 0s - 365us/step - loss: 0.2850\n",
      "Epoch 4/25\n",
      "34/34 - 0s - 346us/step - loss: 0.2202\n",
      "Epoch 5/25\n",
      "34/34 - 0s - 362us/step - loss: 0.1626\n",
      "Epoch 6/25\n",
      "34/34 - 0s - 372us/step - loss: 0.1148\n",
      "Epoch 7/25\n",
      "34/34 - 0s - 385us/step - loss: 0.0794\n",
      "Epoch 8/25\n",
      "34/34 - 0s - 387us/step - loss: 0.0567\n",
      "Epoch 9/25\n",
      "34/34 - 0s - 383us/step - loss: 0.0443\n",
      "Epoch 10/25\n",
      "34/34 - 0s - 386us/step - loss: 0.0386\n",
      "Epoch 11/25\n",
      "34/34 - 0s - 389us/step - loss: 0.0359\n",
      "Epoch 12/25\n",
      "34/34 - 0s - 376us/step - loss: 0.0344\n",
      "Epoch 13/25\n",
      "34/34 - 0s - 385us/step - loss: 0.0333\n",
      "Epoch 14/25\n",
      "34/34 - 0s - 392us/step - loss: 0.0322\n",
      "Epoch 15/25\n",
      "34/34 - 0s - 382us/step - loss: 0.0311\n",
      "Epoch 16/25\n",
      "34/34 - 0s - 363us/step - loss: 0.0300\n",
      "Epoch 17/25\n",
      "34/34 - 0s - 369us/step - loss: 0.0289\n",
      "Epoch 18/25\n",
      "34/34 - 0s - 369us/step - loss: 0.0278\n",
      "Epoch 19/25\n",
      "34/34 - 0s - 373us/step - loss: 0.0267\n",
      "Epoch 20/25\n",
      "34/34 - 0s - 371us/step - loss: 0.0256\n",
      "Epoch 21/25\n",
      "34/34 - 0s - 373us/step - loss: 0.0245\n",
      "Epoch 22/25\n",
      "34/34 - 0s - 364us/step - loss: 0.0234\n",
      "Epoch 23/25\n",
      "34/34 - 0s - 375us/step - loss: 0.0223\n",
      "Epoch 24/25\n",
      "34/34 - 0s - 366us/step - loss: 0.0213\n",
      "Epoch 25/25\n",
      "34/34 - 0s - 364us/step - loss: 0.0202\n",
      "\u001b[1m5/5\u001b[0m \u001b[32m━━━━━━━━━━━━━━━━━━━━\u001b[0m\u001b[37m\u001b[0m \u001b[1m0s\u001b[0m 9ms/step \n",
      "\u001b[1m1/1\u001b[0m \u001b[32m━━━━━━━━━━━━━━━━━━━━\u001b[0m\u001b[37m\u001b[0m \u001b[1m0s\u001b[0m 5ms/step\n",
      "We print the predictions [[42.685432]\n",
      " [42.815887]\n",
      " [42.46296 ]]\n",
      "We print the ground truth [[29.59881783 27.63008118 23.93022728]]\n",
      "The dimension of the residuals is  (3, 3)\n"
     ]
    }
   ],
   "source": [
    "residual_dict = {}\n",
    "\n",
    "for date in weight_dict.keys():\n",
    "\n",
    "    date_to_use = datetime.strptime(date, '%Y-%m-%d')\n",
    "    print('We will now use ', date_to_use)\n",
    "    \n",
    "    date_to_start = date_to_use - timedelta(days=200)\n",
    "    print('Training period begins ', date_to_start)\n",
    "\n",
    "    date_start_test = date_to_use + timedelta(days=1)\n",
    "    print('Period to predict begins ', date_start_test)\n",
    "    \n",
    "    date_end_test = date_to_use + timedelta(days=8)\n",
    "    print('Prediction period ends ', date_end_test)\n",
    "\n",
    "    COP_dat = COP.history(period=\"max\")\n",
    "\n",
    "    COP_dat.index = COP_dat.index.tz_convert(None)\n",
    "\n",
    "    COP_dat.reset_index(inplace = True)\n",
    "\n",
    "    \n",
    "    COP_dat['log_close'] = np.log(COP_dat['Close'])\n",
    "    COP_dat['log_diff'] = COP_dat['log_close'].diff()\n",
    "    COP_dat['Date'] =  pd.to_datetime(COP_dat['Date'], format='%Y-%m-%d')\n",
    "\n",
    "    training_set = COP_dat.loc[ (COP_dat['Date'] >= date_to_start) & (COP_dat['Date'] <= date_to_use)  ].Close\n",
    "\n",
    "    test = COP_dat.loc[ (COP_dat['Date'] >= date_start_test) & (COP_dat['Date'] <= date_end_test)  ].Close\n",
    "\n",
    "    training_set = training_set.to_numpy()\n",
    "    training_set = training_set.reshape((training_set.shape[0], 1))\n",
    "    test = test.to_numpy()\n",
    "    test = test.reshape((test.shape[0], 1))\n",
    "\n",
    "    print('Our training set has size ', training_set.shape)\n",
    "    print('Our testing set has size ', test.shape)\n",
    "\n",
    "    # normalize the datasets\n",
    "    scaler = MinMaxScaler(feature_range=(0, 1))\n",
    "    training_set = scaler.fit_transform(training_set)\n",
    "    \n",
    "    test = scaler.transform(test)\n",
    "\n",
    "    # reshape into X=t and Y=t+1\n",
    "    look_back = 1\n",
    "    trainX, trainY = create_dataset(training_set, look_back)\n",
    "\n",
    "    testX, testY = create_dataset(test, look_back)\n",
    "\n",
    "    # reshape input to be [samples, time steps, features]\n",
    "    trainX = np.reshape(trainX, (trainX.shape[0], 1, trainX.shape[1]))\n",
    "    testX = np.reshape(testX, (testX.shape[0], 1, testX.shape[1]))\n",
    "\n",
    "    # create and fit the LSTM network\n",
    "    model = Sequential()\n",
    "    model.add(LSTM(5, input_shape=(1, look_back)))\n",
    "    model.add(Dense(1))\n",
    "    model.compile(loss='mean_squared_error', optimizer='adam')\n",
    "    model.fit(trainX, trainY, epochs=25, batch_size=4, verbose=2)\n",
    "\n",
    "    # make predictions\n",
    "    trainPredict = model.predict(trainX)\n",
    "    testPredict = model.predict(testX)\n",
    "\n",
    "    # invert predictions\n",
    "    trainPredict = scaler.inverse_transform(trainPredict)\n",
    "    trainY = scaler.inverse_transform([trainY])\n",
    "    testPredict = scaler.inverse_transform(testPredict)\n",
    "    testY = scaler.inverse_transform([testY])\n",
    "\n",
    "    print('We print the predictions', testPredict)\n",
    "    print('We print the ground truth', testY)\n",
    "\n",
    "\n",
    "    residuals = testY - testPredict\n",
    "\n",
    "    print('The dimension of the residuals is ', residuals.shape)\n",
    "\n",
    "    residual_dict.update({ date : residuals })"
   ]
  },
  {
   "cell_type": "code",
   "execution_count": null,
   "id": "be010d83-9589-4de4-bb58-f88cbd0cd895",
   "metadata": {},
   "outputs": [],
   "source": [
    "# dot product"
   ]
  },
  {
   "cell_type": "code",
   "execution_count": 138,
   "id": "12543def-a5e5-46ff-acdf-b54c10de7927",
   "metadata": {},
   "outputs": [
    {
     "data": {
      "text/plain": [
       "[0.273]"
      ]
     },
     "execution_count": 138,
     "metadata": {},
     "output_type": "execute_result"
    }
   ],
   "source": [
    "list(weight_dict.values())[0:1]"
   ]
  },
  {
   "cell_type": "code",
   "execution_count": 141,
   "id": "15caa076-f7ba-49d4-b353-a809572f16a4",
   "metadata": {},
   "outputs": [
    {
     "data": {
      "text/plain": [
       "-0.03768809306171332"
      ]
     },
     "execution_count": 141,
     "metadata": {},
     "output_type": "execute_result"
    }
   ],
   "source": [
    "np.dot(list(weight_dict.values())[0:2], [(33.20644379 - 34.683964)/33.20644379, (49.82816696-51.57873)/49.82816696] )"
   ]
  },
  {
   "cell_type": "code",
   "execution_count": 142,
   "id": "7687ccd8-3d82-497a-a399-603408f56d2a",
   "metadata": {},
   "outputs": [
    {
     "data": {
      "text/plain": [
       "-1.6760223474100027"
      ]
     },
     "execution_count": 142,
     "metadata": {},
     "output_type": "execute_result"
    }
   ],
   "source": [
    "np.dot(list(weight_dict.values())[0:2], [(33.20644379 - 34.683964), (49.82816696-51.57873)] )"
   ]
  },
  {
   "cell_type": "code",
   "execution_count": null,
   "id": "26bbaaf4-d289-4e33-b607-7c3a5300c7a3",
   "metadata": {},
   "outputs": [],
   "source": [
    "#And now here is the thing we are correcting"
   ]
  },
  {
   "cell_type": "code",
   "execution_count": 143,
   "id": "ba7372bc-ccf5-41fe-8d53-9a260483a36c",
   "metadata": {},
   "outputs": [
    {
     "data": {
      "text/plain": [
       "41.009409652589994"
      ]
     },
     "execution_count": 143,
     "metadata": {},
     "output_type": "execute_result"
    }
   ],
   "source": [
    "42.685432 - 1.6760223474100027"
   ]
  },
  {
   "cell_type": "code",
   "execution_count": 129,
   "id": "19183b02-cf07-4a0c-b15e-dda583cffc32",
   "metadata": {},
   "outputs": [
    {
     "data": {
      "text/plain": [
       "['2008-09-24', '2014-11-26', '2020-03-06']"
      ]
     },
     "execution_count": 129,
     "metadata": {},
     "output_type": "execute_result"
    }
   ],
   "source": [
    "list(residual_dict.keys())"
   ]
  },
  {
   "cell_type": "code",
   "execution_count": 130,
   "id": "71f6942d-6e0b-4fb1-b87c-492af101463c",
   "metadata": {},
   "outputs": [
    {
     "data": {
      "text/plain": [
       "array([-1.12805557, -4.14643478, -2.43036079])"
      ]
     },
     "execution_count": 130,
     "metadata": {},
     "output_type": "execute_result"
    }
   ],
   "source": [
    "residual_dict['2008-09-24']"
   ]
  },
  {
   "cell_type": "code",
   "execution_count": 131,
   "id": "01ca8213-ba45-42a8-b0b7-357b52185bae",
   "metadata": {},
   "outputs": [
    {
     "data": {
      "text/plain": [
       "dict_items([('2008-09-24', array([-1.12805557, -4.14643478, -2.43036079])), ('2014-11-26', array([-3.65476608, -2.59600449])), ('2020-03-06', array([ -7.93042374,  -9.89914513, -13.59899712]))])"
      ]
     },
     "execution_count": 131,
     "metadata": {},
     "output_type": "execute_result"
    }
   ],
   "source": [
    "residual_dict.items()"
   ]
  },
  {
   "cell_type": "code",
   "execution_count": 95,
   "id": "10879239-fd3f-4343-85e0-cd15b4c01930",
   "metadata": {},
   "outputs": [
    {
     "data": {
      "text/plain": [
       "3"
      ]
     },
     "execution_count": 95,
     "metadata": {},
     "output_type": "execute_result"
    }
   ],
   "source": [
    "len(residual_list)"
   ]
  },
  {
   "cell_type": "code",
   "execution_count": 96,
   "id": "171886b0-cb2f-4183-9033-311d2183f756",
   "metadata": {},
   "outputs": [
    {
     "data": {
      "text/plain": [
       "(10734,)"
      ]
     },
     "execution_count": 96,
     "metadata": {},
     "output_type": "execute_result"
    }
   ],
   "source": [
    "residual_list[0].shape"
   ]
  },
  {
   "cell_type": "code",
   "execution_count": 49,
   "id": "120a0fff-9591-4bd2-b3a1-c9446ed82434",
   "metadata": {},
   "outputs": [
    {
     "data": {
      "text/plain": [
       "[array([ -0.2918092 ,  -0.33033115,  -0.34959191, ..., 108.59415233,\n",
       "        109.88414562, 107.07414806]),\n",
       " array([ -0.2529037 ,  -0.29142547,  -0.31068671, ..., 108.63305807,\n",
       "        109.92305136, 107.1130538 ]),\n",
       " array([ -0.2541182 ,  -0.29264051,  -0.31190109, ..., 108.63184333,\n",
       "        109.92183661, 107.11183906])]"
      ]
     },
     "execution_count": 49,
     "metadata": {},
     "output_type": "execute_result"
    }
   ],
   "source": [
    "\n",
    "residual_list"
   ]
  },
  {
   "cell_type": "code",
   "execution_count": 16,
   "id": "df3e2dbc-c815-4c9a-96a5-6682d490fbda",
   "metadata": {},
   "outputs": [
    {
     "data": {
      "text/plain": [
       "datetime.datetime(2014, 8, 20, 0, 0)"
      ]
     },
     "execution_count": 16,
     "metadata": {},
     "output_type": "execute_result"
    }
   ],
   "source": [
    "np.dot(residual_list, "
   ]
  },
  {
   "cell_type": "code",
   "execution_count": null,
   "id": "fc417e84-bb4a-496d-8279-5f56732c846c",
   "metadata": {},
   "outputs": [],
   "source": []
  },
  {
   "cell_type": "code",
   "execution_count": 1332,
   "id": "c4159264-944e-42b7-9391-e71cd3c3f856",
   "metadata": {},
   "outputs": [
    {
     "name": "stdout",
     "output_type": "stream",
     "text": [
      "\u001b[1m1/1\u001b[0m \u001b[32m━━━━━━━━━━━━━━━━━━━━\u001b[0m\u001b[37m\u001b[0m \u001b[1m0s\u001b[0m 8ms/step\n"
     ]
    }
   ],
   "source": []
  },
  {
   "cell_type": "code",
   "execution_count": 1334,
   "id": "4f36c7af-4d5f-42e8-87e8-29b456fc4c0f",
   "metadata": {},
   "outputs": [],
   "source": []
  },
  {
   "cell_type": "code",
   "execution_count": 1335,
   "id": "3f445ac1-34c5-42b2-88a9-c571ad814f74",
   "metadata": {},
   "outputs": [
    {
     "data": {
      "text/plain": [
       "(7, 1)"
      ]
     },
     "execution_count": 1335,
     "metadata": {},
     "output_type": "execute_result"
    }
   ],
   "source": [
    "testPredict.shape"
   ]
  },
  {
   "cell_type": "code",
   "execution_count": 1336,
   "id": "b83d711a-25c1-47a4-9277-85f885eed6fd",
   "metadata": {},
   "outputs": [
    {
     "data": {
      "text/plain": [
       "array([[0.00098109],\n",
       "       [0.00047128],\n",
       "       [0.00071508],\n",
       "       [0.00062283],\n",
       "       [0.00214965],\n",
       "       [0.00214986],\n",
       "       [0.00206605]], dtype=float32)"
      ]
     },
     "execution_count": 1336,
     "metadata": {},
     "output_type": "execute_result"
    }
   ],
   "source": [
    "testPredict"
   ]
  },
  {
   "cell_type": "code",
   "execution_count": 1309,
   "id": "4cdacebc-6a62-42c8-abdb-56731f534b2a",
   "metadata": {},
   "outputs": [
    {
     "data": {
      "text/plain": [
       "array([[49.82816696, 50.88693237, 52.05597305, 50.96044922, 49.88698578,\n",
       "        47.81357956, 47.76211166]])"
      ]
     },
     "execution_count": 1309,
     "metadata": {},
     "output_type": "execute_result"
    }
   ],
   "source": [
    "testY"
   ]
  },
  {
   "cell_type": "code",
   "execution_count": 1310,
   "id": "89dfbbb8-c81e-4ec3-a478-3f62b47d0716",
   "metadata": {},
   "outputs": [],
   "source": []
  },
  {
   "cell_type": "code",
   "execution_count": 1311,
   "id": "54f57df7-85a3-473d-bb66-23acfddf63f5",
   "metadata": {},
   "outputs": [
    {
     "data": {
      "text/plain": [
       "array([[ 1.20053864,  2.25930405,  3.42834473,  2.33282089,  1.25935745,\n",
       "        -0.81404877, -0.86551666],\n",
       "       [-0.10146332,  0.95730209,  2.12634277,  1.03081894, -0.0426445 ,\n",
       "        -2.11605072, -2.16751862],\n",
       "       [-1.20051956, -0.14175415,  1.02728653, -0.0682373 , -1.14170074,\n",
       "        -3.21510696, -3.26657486],\n",
       "       [-2.40596771, -1.3472023 , -0.17816162, -1.27368546, -2.3471489 ,\n",
       "        -4.42055511, -4.47202301],\n",
       "       [-1.27660751, -0.2178421 ,  0.95119858, -0.14432526, -1.2177887 ,\n",
       "        -3.29119492, -3.34266281],\n",
       "       [-0.16265106,  0.89611435,  2.06515503,  0.9696312 , -0.10383224,\n",
       "        -2.17723846, -2.22870636],\n",
       "       [ 1.99699402,  3.05575943,  4.22480011,  3.12927628,  2.05581284,\n",
       "        -0.01759338, -0.06906128]])"
      ]
     },
     "execution_count": 1311,
     "metadata": {},
     "output_type": "execute_result"
    }
   ],
   "source": [
    "residuals"
   ]
  },
  {
   "cell_type": "code",
   "execution_count": 1117,
   "id": "cb890818-17c0-4eef-8696-b49c5a3e83a7",
   "metadata": {},
   "outputs": [],
   "source": [
    "# Weights from Lin and Eck 2021 W∗ = (0.000, 0.000, 0.000, 0.273, 0.727) \n",
    "\n",
    "# (\"2008-03-14\" , \"2008-09-05\", \"2008-09-12\", \"2008-09-25\"  ,\"2014-11-26\")\n",
    "\n",
    "# https://arxiv.org/pdf/2008.11756\n",
    "\n"
   ]
  },
  {
   "cell_type": "code",
   "execution_count": 1118,
   "id": "0c614201-4d84-4b72-9b20-5f6d2dfcc520",
   "metadata": {},
   "outputs": [
    {
     "data": {
      "text/plain": [
       "array([[ 2.93182151e-04],\n",
       "       [ 1.97510628e-04],\n",
       "       [-4.93526284e-04],\n",
       "       [ 3.02714398e-05],\n",
       "       [-1.12913665e-03],\n",
       "       [-2.96893140e-05],\n",
       "       [-4.93408064e-04],\n",
       "       [-1.41926212e-04],\n",
       "       [ 4.71628329e-04],\n",
       "       [-4.53065644e-04],\n",
       "       [ 4.53223533e-04],\n",
       "       [-6.43673848e-05],\n",
       "       [ 5.72077581e-04],\n",
       "       [-1.89835016e-04],\n",
       "       [ 2.54734798e-04],\n",
       "       [-3.89885012e-04],\n",
       "       [ 1.19183322e-04],\n",
       "       [ 1.59838688e-04],\n",
       "       [ 2.20494883e-04],\n",
       "       [ 3.70553229e-04],\n",
       "       [-2.39608763e-03],\n",
       "       [ 4.55129048e-04],\n",
       "       [-5.94123812e-05],\n",
       "       [-4.16596828e-04],\n",
       "       [-8.17058433e-04],\n",
       "       [-1.47478067e-05],\n",
       "       [-7.89818121e-04],\n",
       "       [ 1.59602234e-04],\n",
       "       [-8.55731836e-04],\n",
       "       [-5.41970599e-04],\n",
       "       [-7.76674307e-04],\n",
       "       [-6.32440264e-04],\n",
       "       [-1.80699502e-03],\n",
       "       [ 7.26666709e-04],\n",
       "       [-2.11399677e-03],\n",
       "       [ 1.37803238e-03],\n",
       "       [-2.36518937e-03],\n",
       "       [-3.65868036e-04],\n",
       "       [-7.68036931e-04],\n",
       "       [ 1.04283076e-03],\n",
       "       [ 3.64868029e-04],\n",
       "       [-1.14441547e-03],\n",
       "       [-8.97270394e-04],\n",
       "       [-1.47609122e-03],\n",
       "       [-1.11438637e-03],\n",
       "       [-5.69238735e-04],\n",
       "       [-4.03287448e-03],\n",
       "       [-3.45677114e-03],\n",
       "       [ 9.25078988e-04],\n",
       "       [-4.42016777e-03],\n",
       "       [ 5.56531013e-04],\n",
       "       [-2.04126770e-03],\n",
       "       [ 1.29683292e-03],\n",
       "       [-1.22359465e-03],\n",
       "       [-1.00146793e-03],\n",
       "       [ 1.18606113e-04],\n",
       "       [-1.52906624e-03],\n",
       "       [ 9.71239933e-05],\n",
       "       [-2.51247641e-03],\n",
       "       [ 2.40620881e-04],\n",
       "       [ 2.58312852e-04],\n",
       "       [ 1.29580134e-04],\n",
       "       [-1.56032282e-03],\n",
       "       [ 2.22240429e-04],\n",
       "       [-8.26203497e-04],\n",
       "       [ 1.40769756e-04],\n",
       "       [-9.85083403e-04],\n",
       "       [ 2.18923189e-04],\n",
       "       [-1.99317816e-03],\n",
       "       [ 3.54081742e-04],\n",
       "       [-2.08757701e-03],\n",
       "       [ 1.57056929e-04],\n",
       "       [-2.59589776e-03],\n",
       "       [-5.62684261e-04],\n",
       "       [-4.25644510e-04],\n",
       "       [ 3.34704600e-05],\n",
       "       [-1.90959324e-03],\n",
       "       [ 6.51100301e-04],\n",
       "       [ 1.00201543e-03],\n",
       "       [-6.15346362e-04],\n",
       "       [-1.45171606e-03],\n",
       "       [ 2.57815613e-04],\n",
       "       [-1.80035352e-03],\n",
       "       [-1.63004745e-03],\n",
       "       [-7.32990331e-04],\n",
       "       [-2.32367497e-03],\n",
       "       [ 2.32188671e-04],\n",
       "       [-8.68889503e-04],\n",
       "       [-2.67691980e-03],\n",
       "       [-3.13523156e-03],\n",
       "       [-9.33551404e-04],\n",
       "       [-3.52609495e-04],\n",
       "       [-2.01281946e-04],\n",
       "       [-2.23563588e-03],\n",
       "       [ 3.46383255e-04],\n",
       "       [-5.30063547e-03],\n",
       "       [-2.39878590e-03],\n",
       "       [-5.41235600e-03],\n",
       "       [-4.44731442e-03],\n",
       "       [-3.85858439e-04],\n",
       "       [ 5.04185329e-04],\n",
       "       [ 1.01385172e-03],\n",
       "       [ 5.65022347e-04],\n",
       "       [ 1.48739712e-03],\n",
       "       [-2.57510063e-03],\n",
       "       [ 3.18315317e-04],\n",
       "       [-3.60092410e-04],\n",
       "       [-2.79118051e-03],\n",
       "       [ 1.20153686e-03],\n",
       "       [ 2.72896199e-04],\n",
       "       [ 3.54352989e-04],\n",
       "       [ 5.80683583e-04],\n",
       "       [-3.49352183e-03],\n",
       "       [-4.06831037e-03],\n",
       "       [ 9.44196596e-04],\n",
       "       [ 1.22562691e-03],\n",
       "       [ 6.25306449e-04],\n",
       "       [-1.38101075e-03],\n",
       "       [-2.46593292e-04],\n",
       "       [-1.36883021e-03],\n",
       "       [-1.94068975e-03],\n",
       "       [ 8.69854121e-04],\n",
       "       [-4.51271422e-04],\n",
       "       [-1.05540857e-04],\n",
       "       [ 1.71396881e-04],\n",
       "       [ 8.63195281e-04],\n",
       "       [ 1.21290504e-04],\n",
       "       [-9.42578190e-04]], dtype=float32)"
      ]
     },
     "execution_count": 1118,
     "metadata": {},
     "output_type": "execute_result"
    }
   ],
   "source": [
    "trainPredict"
   ]
  },
  {
   "cell_type": "code",
   "execution_count": null,
   "id": "9fed4950-8c2e-48f2-ac89-cf02debe6d7d",
   "metadata": {},
   "outputs": [],
   "source": []
  },
  {
   "cell_type": "code",
   "execution_count": 1250,
   "id": "de3512b3-7c22-49d0-a67e-4badc0608592",
   "metadata": {},
   "outputs": [],
   "source": []
  },
  {
   "cell_type": "code",
   "execution_count": 1255,
   "id": "b815e3e3-12fa-4d31-b7e2-48e177d372db",
   "metadata": {},
   "outputs": [
    {
     "ename": "ValueError",
     "evalue": "Unrecognized keyword arguments passed to LSTM: {'batch_input_shape': (1, 3, 1)}",
     "output_type": "error",
     "traceback": [
      "\u001b[0;31m---------------------------------------------------------------------------\u001b[0m",
      "\u001b[0;31mValueError\u001b[0m                                Traceback (most recent call last)",
      "Cell \u001b[0;32mIn[1255], line 48\u001b[0m\n\u001b[1;32m     46\u001b[0m batch_size \u001b[38;5;241m=\u001b[39m \u001b[38;5;241m1\u001b[39m\n\u001b[1;32m     47\u001b[0m model \u001b[38;5;241m=\u001b[39m Sequential()\n\u001b[0;32m---> 48\u001b[0m model\u001b[38;5;241m.\u001b[39madd(\u001b[43mLSTM\u001b[49m\u001b[43m(\u001b[49m\u001b[38;5;241;43m4\u001b[39;49m\u001b[43m,\u001b[49m\u001b[43m \u001b[49m\u001b[43mbatch_input_shape\u001b[49m\u001b[38;5;241;43m=\u001b[39;49m\u001b[43m(\u001b[49m\u001b[43mbatch_size\u001b[49m\u001b[43m,\u001b[49m\u001b[43m \u001b[49m\u001b[43mlook_back\u001b[49m\u001b[43m,\u001b[49m\u001b[43m \u001b[49m\u001b[38;5;241;43m1\u001b[39;49m\u001b[43m)\u001b[49m\u001b[43m,\u001b[49m\u001b[43m \u001b[49m\u001b[43mstateful\u001b[49m\u001b[38;5;241;43m=\u001b[39;49m\u001b[38;5;28;43;01mTrue\u001b[39;49;00m\u001b[43m)\u001b[49m)\n\u001b[1;32m     49\u001b[0m model\u001b[38;5;241m.\u001b[39madd(Dense(\u001b[38;5;241m1\u001b[39m))\n\u001b[1;32m     50\u001b[0m model\u001b[38;5;241m.\u001b[39mcompile(loss\u001b[38;5;241m=\u001b[39m\u001b[38;5;124m'\u001b[39m\u001b[38;5;124mmean_squared_error\u001b[39m\u001b[38;5;124m'\u001b[39m, optimizer\u001b[38;5;241m=\u001b[39m\u001b[38;5;124m'\u001b[39m\u001b[38;5;124madam\u001b[39m\u001b[38;5;124m'\u001b[39m)\n",
      "File \u001b[0;32m/Library/Frameworks/Python.framework/Versions/3.12/lib/python3.12/site-packages/keras/src/layers/rnn/lstm.py:486\u001b[0m, in \u001b[0;36mLSTM.__init__\u001b[0;34m(self, units, activation, recurrent_activation, use_bias, kernel_initializer, recurrent_initializer, bias_initializer, unit_forget_bias, kernel_regularizer, recurrent_regularizer, bias_regularizer, activity_regularizer, kernel_constraint, recurrent_constraint, bias_constraint, dropout, recurrent_dropout, seed, return_sequences, return_state, go_backwards, stateful, unroll, use_cudnn, **kwargs)\u001b[0m\n\u001b[1;32m    435\u001b[0m \u001b[38;5;28;01mdef\u001b[39;00m \u001b[38;5;21m__init__\u001b[39m(\n\u001b[1;32m    436\u001b[0m     \u001b[38;5;28mself\u001b[39m,\n\u001b[1;32m    437\u001b[0m     units,\n\u001b[0;32m   (...)\u001b[0m\n\u001b[1;32m    461\u001b[0m     \u001b[38;5;241m*\u001b[39m\u001b[38;5;241m*\u001b[39mkwargs,\n\u001b[1;32m    462\u001b[0m ):\n\u001b[1;32m    463\u001b[0m     cell \u001b[38;5;241m=\u001b[39m LSTMCell(\n\u001b[1;32m    464\u001b[0m         units,\n\u001b[1;32m    465\u001b[0m         activation\u001b[38;5;241m=\u001b[39mactivation,\n\u001b[0;32m   (...)\u001b[0m\n\u001b[1;32m    484\u001b[0m         implementation\u001b[38;5;241m=\u001b[39mkwargs\u001b[38;5;241m.\u001b[39mpop(\u001b[38;5;124m\"\u001b[39m\u001b[38;5;124mimplementation\u001b[39m\u001b[38;5;124m\"\u001b[39m, \u001b[38;5;241m2\u001b[39m),\n\u001b[1;32m    485\u001b[0m     )\n\u001b[0;32m--> 486\u001b[0m     \u001b[38;5;28;43msuper\u001b[39;49m\u001b[43m(\u001b[49m\u001b[43m)\u001b[49m\u001b[38;5;241;43m.\u001b[39;49m\u001b[38;5;21;43m__init__\u001b[39;49m\u001b[43m(\u001b[49m\n\u001b[1;32m    487\u001b[0m \u001b[43m        \u001b[49m\u001b[43mcell\u001b[49m\u001b[43m,\u001b[49m\n\u001b[1;32m    488\u001b[0m \u001b[43m        \u001b[49m\u001b[43mreturn_sequences\u001b[49m\u001b[38;5;241;43m=\u001b[39;49m\u001b[43mreturn_sequences\u001b[49m\u001b[43m,\u001b[49m\n\u001b[1;32m    489\u001b[0m \u001b[43m        \u001b[49m\u001b[43mreturn_state\u001b[49m\u001b[38;5;241;43m=\u001b[39;49m\u001b[43mreturn_state\u001b[49m\u001b[43m,\u001b[49m\n\u001b[1;32m    490\u001b[0m \u001b[43m        \u001b[49m\u001b[43mgo_backwards\u001b[49m\u001b[38;5;241;43m=\u001b[39;49m\u001b[43mgo_backwards\u001b[49m\u001b[43m,\u001b[49m\n\u001b[1;32m    491\u001b[0m \u001b[43m        \u001b[49m\u001b[43mstateful\u001b[49m\u001b[38;5;241;43m=\u001b[39;49m\u001b[43mstateful\u001b[49m\u001b[43m,\u001b[49m\n\u001b[1;32m    492\u001b[0m \u001b[43m        \u001b[49m\u001b[43munroll\u001b[49m\u001b[38;5;241;43m=\u001b[39;49m\u001b[43munroll\u001b[49m\u001b[43m,\u001b[49m\n\u001b[1;32m    493\u001b[0m \u001b[43m        \u001b[49m\u001b[43mactivity_regularizer\u001b[49m\u001b[38;5;241;43m=\u001b[39;49m\u001b[43mactivity_regularizer\u001b[49m\u001b[43m,\u001b[49m\n\u001b[1;32m    494\u001b[0m \u001b[43m        \u001b[49m\u001b[38;5;241;43m*\u001b[39;49m\u001b[38;5;241;43m*\u001b[39;49m\u001b[43mkwargs\u001b[49m\u001b[43m,\u001b[49m\n\u001b[1;32m    495\u001b[0m \u001b[43m    \u001b[49m\u001b[43m)\u001b[49m\n\u001b[1;32m    496\u001b[0m     \u001b[38;5;28mself\u001b[39m\u001b[38;5;241m.\u001b[39minput_spec \u001b[38;5;241m=\u001b[39m InputSpec(ndim\u001b[38;5;241m=\u001b[39m\u001b[38;5;241m3\u001b[39m)\n\u001b[1;32m    497\u001b[0m     \u001b[38;5;28;01mif\u001b[39;00m use_cudnn \u001b[38;5;129;01mnot\u001b[39;00m \u001b[38;5;129;01min\u001b[39;00m (\u001b[38;5;124m\"\u001b[39m\u001b[38;5;124mauto\u001b[39m\u001b[38;5;124m\"\u001b[39m, \u001b[38;5;28;01mTrue\u001b[39;00m, \u001b[38;5;28;01mFalse\u001b[39;00m):\n",
      "File \u001b[0;32m/Library/Frameworks/Python.framework/Versions/3.12/lib/python3.12/site-packages/keras/src/layers/rnn/rnn.py:204\u001b[0m, in \u001b[0;36mRNN.__init__\u001b[0;34m(self, cell, return_sequences, return_state, go_backwards, stateful, unroll, zero_output_for_mask, **kwargs)\u001b[0m\n\u001b[1;32m    197\u001b[0m \u001b[38;5;28;01mif\u001b[39;00m \u001b[38;5;124m\"\u001b[39m\u001b[38;5;124mstate_size\u001b[39m\u001b[38;5;124m\"\u001b[39m \u001b[38;5;129;01mnot\u001b[39;00m \u001b[38;5;129;01min\u001b[39;00m \u001b[38;5;28mdir\u001b[39m(cell):\n\u001b[1;32m    198\u001b[0m     \u001b[38;5;28;01mraise\u001b[39;00m \u001b[38;5;167;01mValueError\u001b[39;00m(\n\u001b[1;32m    199\u001b[0m         \u001b[38;5;124m\"\u001b[39m\u001b[38;5;124mThe RNN cell should have a `state_size` attribute \u001b[39m\u001b[38;5;124m\"\u001b[39m\n\u001b[1;32m    200\u001b[0m         \u001b[38;5;124m\"\u001b[39m\u001b[38;5;124m(single integer or list of integers, \u001b[39m\u001b[38;5;124m\"\u001b[39m\n\u001b[1;32m    201\u001b[0m         \u001b[38;5;124m\"\u001b[39m\u001b[38;5;124mone integer per RNN state). \u001b[39m\u001b[38;5;124m\"\u001b[39m\n\u001b[1;32m    202\u001b[0m         \u001b[38;5;124mf\u001b[39m\u001b[38;5;124m\"\u001b[39m\u001b[38;5;124mReceived: cell=\u001b[39m\u001b[38;5;132;01m{\u001b[39;00mcell\u001b[38;5;132;01m}\u001b[39;00m\u001b[38;5;124m\"\u001b[39m\n\u001b[1;32m    203\u001b[0m     )\n\u001b[0;32m--> 204\u001b[0m \u001b[38;5;28;43msuper\u001b[39;49m\u001b[43m(\u001b[49m\u001b[43m)\u001b[49m\u001b[38;5;241;43m.\u001b[39;49m\u001b[38;5;21;43m__init__\u001b[39;49m\u001b[43m(\u001b[49m\u001b[38;5;241;43m*\u001b[39;49m\u001b[38;5;241;43m*\u001b[39;49m\u001b[43mkwargs\u001b[49m\u001b[43m)\u001b[49m\n\u001b[1;32m    206\u001b[0m \u001b[38;5;66;03m# If True, the output for masked timestep will be zeros, whereas in the\u001b[39;00m\n\u001b[1;32m    207\u001b[0m \u001b[38;5;66;03m# False case, output from previous timestep is returned for masked\u001b[39;00m\n\u001b[1;32m    208\u001b[0m \u001b[38;5;66;03m# timestep.\u001b[39;00m\n\u001b[1;32m    209\u001b[0m \u001b[38;5;28mself\u001b[39m\u001b[38;5;241m.\u001b[39mzero_output_for_mask \u001b[38;5;241m=\u001b[39m zero_output_for_mask\n",
      "File \u001b[0;32m/Library/Frameworks/Python.framework/Versions/3.12/lib/python3.12/site-packages/keras/src/layers/layer.py:266\u001b[0m, in \u001b[0;36mLayer.__init__\u001b[0;34m(self, activity_regularizer, trainable, dtype, autocast, name, **kwargs)\u001b[0m\n\u001b[1;32m    264\u001b[0m     \u001b[38;5;28mself\u001b[39m\u001b[38;5;241m.\u001b[39m_input_shape_arg \u001b[38;5;241m=\u001b[39m input_shape_arg\n\u001b[1;32m    265\u001b[0m \u001b[38;5;28;01mif\u001b[39;00m kwargs:\n\u001b[0;32m--> 266\u001b[0m     \u001b[38;5;28;01mraise\u001b[39;00m \u001b[38;5;167;01mValueError\u001b[39;00m(\n\u001b[1;32m    267\u001b[0m         \u001b[38;5;124m\"\u001b[39m\u001b[38;5;124mUnrecognized keyword arguments \u001b[39m\u001b[38;5;124m\"\u001b[39m\n\u001b[1;32m    268\u001b[0m         \u001b[38;5;124mf\u001b[39m\u001b[38;5;124m\"\u001b[39m\u001b[38;5;124mpassed to \u001b[39m\u001b[38;5;132;01m{\u001b[39;00m\u001b[38;5;28mself\u001b[39m\u001b[38;5;241m.\u001b[39m\u001b[38;5;18m__class__\u001b[39m\u001b[38;5;241m.\u001b[39m\u001b[38;5;18m__name__\u001b[39m\u001b[38;5;132;01m}\u001b[39;00m\u001b[38;5;124m: \u001b[39m\u001b[38;5;132;01m{\u001b[39;00mkwargs\u001b[38;5;132;01m}\u001b[39;00m\u001b[38;5;124m\"\u001b[39m\n\u001b[1;32m    269\u001b[0m     )\n\u001b[1;32m    271\u001b[0m \u001b[38;5;28mself\u001b[39m\u001b[38;5;241m.\u001b[39m_path \u001b[38;5;241m=\u001b[39m \u001b[38;5;28;01mNone\u001b[39;00m  \u001b[38;5;66;03m# Will be determined in `build_wrapper`\u001b[39;00m\n\u001b[1;32m    272\u001b[0m \u001b[38;5;28mself\u001b[39m\u001b[38;5;241m.\u001b[39mbuilt \u001b[38;5;241m=\u001b[39m \u001b[38;5;28;01mFalse\u001b[39;00m\n",
      "\u001b[0;31mValueError\u001b[0m: Unrecognized keyword arguments passed to LSTM: {'batch_input_shape': (1, 3, 1)}"
     ]
    }
   ],
   "source": [
    "# LSTM for international airline passengers problem with memory\n",
    "import numpy as np\n",
    "import matplotlib.pyplot as plt\n",
    "from pandas import read_csv\n",
    "import tensorflow as tf\n",
    "from keras.models import Sequential\n",
    "from keras.layers import Dense\n",
    "from keras.layers import LSTM\n",
    "from sklearn.preprocessing import MinMaxScaler\n",
    "from sklearn.metrics import mean_squared_error\n",
    "\n",
    "# convert an array of values into a dataset matrix\n",
    "def create_dataset(dataset, look_back=1):\n",
    "    dataX, dataY = [], []\n",
    "    for i in range(len(dataset)-look_back-1):\n",
    "        a = dataset[i:(i+look_back), 0]\n",
    "        dataX.append(a)\n",
    "        dataY.append(dataset[i + look_back, 0])\n",
    "    return np.array(dataX), np.array(dataY)\n",
    "    \n",
    "# fix random seed for reproducibility\n",
    "tf.random.set_seed(7)\n",
    "\n",
    "# load the dataset\n",
    "dataset = donor5\n",
    "dataset = dataset.astype('float32')\n",
    "# normalize the dataset\n",
    "scaler = MinMaxScaler(feature_range=(0, 1))\n",
    "dataset = scaler.fit_transform(dataset)\n",
    "\n",
    "# split into train and test sets\n",
    "train_size = int(len(dataset) * 0.67)\n",
    "test_size = len(dataset) - train_size\n",
    "train, test = dataset[0:train_size,:], dataset[train_size:len(dataset),:]\n",
    "\n",
    "# reshape into X=t and Y=t+1\n",
    "look_back = 3\n",
    "trainX, trainY = create_dataset(train, look_back)\n",
    "testX, testY = create_dataset(test, look_back)\n",
    "\n",
    "# reshape input to be [samples, time steps, features]\n",
    "trainX = np.reshape(trainX, (trainX.shape[0], trainX.shape[1], 1))\n",
    "testX = np.reshape(testX, (testX.shape[0], testX.shape[1], 1))\n",
    "\n",
    "# create and fit the LSTM network\n",
    "batch_size = 1\n",
    "model = Sequential()\n",
    "model.add(LSTM(4, batch_input_shape=(batch_size, look_back, 1), stateful=True))\n",
    "model.add(Dense(1))\n",
    "model.compile(loss='mean_squared_error', optimizer='adam')\n",
    "for i in range(100):\n",
    "    model.fit(trainX, trainY, epochs=1, batch_size=batch_size, verbose=2, shuffle=False)\n",
    "    model.reset_states()\n",
    "    \n",
    "# make predictions\n",
    "trainPredict = model.predict(trainX, batch_size=batch_size)\n",
    "model.reset_states()\n",
    "testPredict = model.predict(testX, batch_size=batch_size)\n",
    "\n",
    "# invert predictions\n",
    "trainPredict = scaler.inverse_transform(trainPredict)\n",
    "trainY = scaler.inverse_transform([trainY])\n",
    "testPredict = scaler.inverse_transform(testPredict)\n",
    "testY = scaler.inverse_transform([testY])\n",
    "\n",
    "# calculate root mean squared error\n",
    "trainScore = np.sqrt(mean_squared_error(trainY[0], trainPredict[:,0]))\n",
    "print('Train Score: %.2f RMSE' % (trainScore))\n",
    "testScore = np.sqrt(mean_squared_error(testY[0], testPredict[:,0]))\n",
    "print('Test Score: %.2f RMSE' % (testScore))\n",
    "\n",
    "# shift train predictions for plotting\n",
    "trainPredictPlot = np.empty_like(dataset)\n",
    "trainPredictPlot[:, :] = np.nan\n",
    "trainPredictPlot[look_back:len(trainPredict)+look_back, :] = trainPredict\n",
    "\n",
    "# shift test predictions for plotting\n",
    "testPredictPlot = np.empty_like(dataset)\n",
    "testPredictPlot[:, :] = np.nan\n",
    "testPredictPlot[len(trainPredict)+(look_back*2)+1:len(dataset)-1, :] = testPredict\n",
    "\n",
    "# plot baseline and predictions\n",
    "plt.plot(scaler.inverse_transform(dataset))\n",
    "plt.plot(trainPredictPlot)\n",
    "plt.plot(testPredictPlot)\n",
    "plt.show()"
   ]
  },
  {
   "cell_type": "code",
   "execution_count": null,
   "id": "88b009f6-051c-45e2-aadf-56db39cc5400",
   "metadata": {},
   "outputs": [],
   "source": []
  },
  {
   "cell_type": "code",
   "execution_count": null,
   "id": "3cd8b6ca-6b31-4403-9598-4fff5dcd8dc4",
   "metadata": {},
   "outputs": [],
   "source": []
  },
  {
   "cell_type": "code",
   "execution_count": null,
   "id": "ffb9abe4-b3ef-4f98-b4b5-4ad77e54810c",
   "metadata": {},
   "outputs": [],
   "source": []
  }
 ],
 "metadata": {
  "kernelspec": {
   "display_name": "Python 3 (ipykernel)",
   "language": "python",
   "name": "python3"
  },
  "language_info": {
   "codemirror_mode": {
    "name": "ipython",
    "version": 3
   },
   "file_extension": ".py",
   "mimetype": "text/x-python",
   "name": "python",
   "nbconvert_exporter": "python",
   "pygments_lexer": "ipython3",
   "version": "3.12.1"
  }
 },
 "nbformat": 4,
 "nbformat_minor": 5
}
