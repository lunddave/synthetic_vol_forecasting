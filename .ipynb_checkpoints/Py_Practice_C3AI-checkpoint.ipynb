{
 "cells": [
  {
   "cell_type": "code",
   "execution_count": 3,
   "id": "8495687d-acb8-4e8d-9872-49af2adca365",
   "metadata": {},
   "outputs": [],
   "source": [
    "import pandas as pd\n",
    "import numpy as np\n",
    "import typing as typ"
   ]
  },
  {
   "cell_type": "code",
   "execution_count": 2,
   "id": "e1e600c5-59d3-4f15-aaf5-c0820c2ad12e",
   "metadata": {},
   "outputs": [],
   "source": [
    "# We write a function that take a paragraph as input and outputs the same paragraph but with\n",
    "# each sentence having each word spelling backward.  We also require a second argument for\n",
    "# a set of punctuation marks that we want the function to account for."
   ]
  },
  {
   "cell_type": "code",
   "execution_count": 36,
   "id": "fd7ec1a9-88b0-4c0b-8151-dff516689d70",
   "metadata": {},
   "outputs": [],
   "source": [
    "def backward_maker(graph: str, p_set: set) -> str:\n",
    "    # https://docs.python.org/3/library/typing.html\n",
    "\n",
    "    #Step 1: take apart\n",
    "    graph_as_word_list = list(graph.split(' '))\n",
    "\n",
    "    #Now, if we find a period, put it at end of new final word\n",
    "    \n",
    "    each_word_backward = [(elem[::-1],elem.count('.')) for elem in graph_as_word_list]\n",
    "\n",
    "    unzipped = zip(*each_word_backward)\n",
    "    wrds, cts = list(unzipped)\n",
    "\n",
    "    print(wrds)\n",
    "    print(cts)\n",
    "    \n",
    "    #joined = ' '.join(each_word_backward)\n",
    "    \n",
    "    #Step 2: put back together\n",
    "    #return(joined)"
   ]
  },
  {
   "cell_type": "code",
   "execution_count": 37,
   "id": "9b30185a-b8d4-4124-a366-d94388a8428e",
   "metadata": {},
   "outputs": [
    {
     "name": "stdout",
     "output_type": "stream",
     "text": [
      "('divaD', 'si', '.llat', '', 'tuB', 'eh', 'sekam', '.sekatsim')\n",
      "(0, 0, 1, 0, 0, 0, 0, 1)\n"
     ]
    }
   ],
   "source": [
    "backward_maker('David is tall.  But he makes mistakes.', ['a'])"
   ]
  },
  {
   "cell_type": "code",
   "execution_count": 28,
   "id": "483cc3e3-44b4-4b23-adef-f35c2b4fc598",
   "metadata": {},
   "outputs": [
    {
     "data": {
      "text/plain": [
       "0"
      ]
     },
     "execution_count": 28,
     "metadata": {},
     "output_type": "execute_result"
    }
   ],
   "source": [
    "'David'.count('dog')"
   ]
  },
  {
   "cell_type": "code",
   "execution_count": null,
   "id": "541b8b67-53c4-48ee-80df-a6f400fbfacc",
   "metadata": {},
   "outputs": [],
   "source": []
  },
  {
   "cell_type": "code",
   "execution_count": null,
   "id": "1e96fd49-4235-4dd9-a13e-40f308533cde",
   "metadata": {},
   "outputs": [],
   "source": []
  }
 ],
 "metadata": {
  "kernelspec": {
   "display_name": "Python 3 (ipykernel)",
   "language": "python",
   "name": "python3"
  },
  "language_info": {
   "codemirror_mode": {
    "name": "ipython",
    "version": 3
   },
   "file_extension": ".py",
   "mimetype": "text/x-python",
   "name": "python",
   "nbconvert_exporter": "python",
   "pygments_lexer": "ipython3",
   "version": "3.12.1"
  }
 },
 "nbformat": 4,
 "nbformat_minor": 5
}
